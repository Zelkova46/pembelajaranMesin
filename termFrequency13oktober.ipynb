{
  "nbformat": 4,
  "nbformat_minor": 0,
  "metadata": {
    "colab": {
      "provenance": [],
      "collapsed_sections": []
    },
    "kernelspec": {
      "name": "python3",
      "display_name": "Python 3"
    },
    "language_info": {
      "name": "python"
    }
  },
  "cells": [
    {
      "cell_type": "markdown",
      "source": [
        "# Menhitung TERM FREQUENCY (TF)"
      ],
      "metadata": {
        "id": "nv14WxJac5xf"
      }
    },
    {
      "cell_type": "markdown",
      "source": [
        "Nama : Muhammad Imam Ariq Sya'bana\n",
        "\n",
        "NIM  : 20106050041"
      ],
      "metadata": {
        "id": "Yq-y1rdYcbjj"
      }
    },
    {
      "cell_type": "code",
      "source": [
        "doc1 = \"Saya sedang belajar menghitung tf idf.\"\n",
        "doc2 = \"Tf.idf merupakan frekuensi kemunculan term pada dokumen.\"\n",
        "doc3 = \"Langkah awal perhitungan tersebut adalah menghitung tf, kemudian menghitung df dan idf.\"\n",
        "doc4 = \"Langkah terakhir menghitung nilai tf.idf.\"\n",
        "doc5 = \"Mari kita belajar!\""
      ],
      "metadata": {
        "id": "cfXqrW8_kE3Z"
      },
      "execution_count": 114,
      "outputs": []
    },
    {
      "cell_type": "code",
      "source": [
        "doc1Lower = doc1.lower()\n",
        "doc2Lower = doc2.lower()\n",
        "doc3Lower = doc3.lower()\n",
        "doc4Lower = doc4.lower()\n",
        "doc5Lower = doc5.lower()"
      ],
      "metadata": {
        "id": "DRsBoQ3wTheB"
      },
      "execution_count": 115,
      "outputs": []
    },
    {
      "cell_type": "code",
      "source": [
        "doc = []\n",
        "doc.append(doc1Lower)\n",
        "doc.append(doc2Lower)\n",
        "doc.append(doc3Lower)\n",
        "doc.append(doc4Lower)\n",
        "doc.append(doc5Lower)\n",
        "print(doc)"
      ],
      "metadata": {
        "colab": {
          "base_uri": "https://localhost:8080/"
        },
        "id": "vG7myGOh5-_f",
        "outputId": "fdded5bd-887e-4dce-bc2e-048fdde861a6"
      },
      "execution_count": 116,
      "outputs": [
        {
          "output_type": "stream",
          "name": "stdout",
          "text": [
            "['saya sedang belajar menghitung tf idf.', 'tf.idf merupakan frekuensi kemunculan term pada dokumen.', 'langkah awal perhitungan tersebut adalah menghitung tf, kemudian menghitung df dan idf.', 'langkah terakhir menghitung nilai tf.idf.', 'mari kita belajar!']\n"
          ]
        }
      ]
    },
    {
      "cell_type": "code",
      "source": [
        "import math # untuk melakukan logaritma\n",
        "from tabulate import tabulate # untuk membuat tabel"
      ],
      "metadata": {
        "id": "6XsEoU8Bd9Ct"
      },
      "execution_count": 134,
      "outputs": []
    },
    {
      "cell_type": "code",
      "source": [
        "akhir = \"akhir\"\n",
        "awal = \"awal\"\n",
        "belajar = \"belajar\"\n",
        "dokumen = \"dokumen\"\n",
        "frekuensi = \"frekuensi\"\n",
        "hitung = \"hitung\"\n",
        "idf = \"idf\"\n",
        "kita = \"kita\"\n",
        "langkah = \"langkah\"\n",
        "muncul = \"muncul\"\n",
        "saya = \"saya\"\n",
        "term = \"term\"\n",
        "tf = \"tf\""
      ],
      "metadata": {
        "id": "YUYCQM5I27eF"
      },
      "execution_count": 118,
      "outputs": []
    },
    {
      "cell_type": "code",
      "source": [
        "print(\"TERM FREQUENCY (tf) D1 - D5\")\n",
        "countAkhir = []\n",
        "\n",
        "for x in range(len(doc)):\n",
        "    d = doc[x].count(akhir)\n",
        "    countAkhir.append(d)\n",
        "    x += 1\n",
        "\n",
        "print(\"akhir\", countAkhir, \"\\n\")\n",
        "\n",
        "dfAkhir = 0\n",
        "for i in range(len(countAkhir)):\n",
        "  if countAkhir[i] != 0:\n",
        "    dfAkhir += 1\n",
        "    i += 1\n",
        "\n",
        "print(\"df untuk kata akhir : \", dfAkhir, \"\\n\")\n",
        "\n",
        "idfAkhir5 = math.log10(5/dfAkhir)\n",
        "print(\"Karena dokumen ada 5, hitung idf 'Akhir' dengan N = 5 : \" , idfAkhir5, \"\\n\")\n",
        "\n",
        "idfAkhir1000 = math.log10(1000/dfAkhir)\n",
        "print(\"misal perhitungan idf dengan N = 1000 : \" , idfAkhir1000,\"\\n\")\n",
        "\n",
        "bobotAkhir = []\n",
        "for j in range(len(countAkhir)):\n",
        "  wAkhir = countAkhir[j] * idfAkhir5\n",
        "  bobotAkhir.append(wAkhir)\n",
        "\n",
        "print(\"Ini adalah bobot kata 'akhir' di tiap tiap dokumen (D1 - D5) berurutan :\")\n",
        "print(bobotAkhir)"
      ],
      "metadata": {
        "colab": {
          "base_uri": "https://localhost:8080/"
        },
        "id": "1536R5z96Sz7",
        "outputId": "00161a52-2081-416e-8607-35d6b496ded5"
      },
      "execution_count": 119,
      "outputs": [
        {
          "output_type": "stream",
          "name": "stdout",
          "text": [
            "TERM FREQUENCY (tf) D1 - D5\n",
            "akhir [0, 0, 0, 1, 0] \n",
            "\n",
            "df untuk kata akhir :  1 \n",
            "\n",
            "Karena dokumen ada 5, hitung idf 'Akhir' dengan N = 5 :  0.6989700043360189 \n",
            "\n",
            "misal perhitungan idf dengan N = 1000 :  3.0 \n",
            "\n",
            "Ini adalah bobot kata 'akhir' di tiap tiap dokumen (D1 - D5) berurutan :\n",
            "[0.0, 0.0, 0.0, 0.6989700043360189, 0.0]\n"
          ]
        }
      ]
    },
    {
      "cell_type": "code",
      "source": [
        "print(\"TERM FREQUENCY D1 - D5\")\n",
        "countAwal = []\n",
        "\n",
        "for x in range(len(doc)):\n",
        "    d = doc[x].count(awal)\n",
        "    countAwal.append(d)\n",
        "    x += 1\n",
        "\n",
        "print(\"awal\", countAwal, \"\\n\")\n",
        "\n",
        "\n",
        "dfAwal = 0\n",
        "for i in range(len(countAwal)):\n",
        "  if countAwal[i] != 0:\n",
        "    dfAwal += 1\n",
        "    i += 1\n",
        "\n",
        "print(\"df untuk kata awal : \", dfAwal, \"\\n\")\n",
        "\n",
        "idfAwal5 = math.log10(5/dfAwal)\n",
        "print(\"Karena dokumen ada 5, hitung idf 'awal' dengan N = 5 : \" , idfAwal5, \"\\n\")\n",
        "\n",
        "idfAwal1000 = math.log10(1000/dfAwal)\n",
        "print(\"misal perhitungan idf dengan N = 1000 : \" ,idfAwal1000,\"\\n\")\n",
        "\n",
        "bobotAwal = []\n",
        "for j in range(len(countAwal)):\n",
        "  wAwal = countAwal[j] * idfAwal5\n",
        "  bobotAwal.append(wAwal)\n",
        "\n",
        "print(\"Ini adalah bobot kata 'awal' di tiap tiap dokumen (D1 - D5) berurutan :\")\n",
        "print(bobotAwal)"
      ],
      "metadata": {
        "colab": {
          "base_uri": "https://localhost:8080/"
        },
        "id": "b9ivfUMstVLq",
        "outputId": "c262ec81-4461-4ea2-9546-7d8a0ba773b6"
      },
      "execution_count": 120,
      "outputs": [
        {
          "output_type": "stream",
          "name": "stdout",
          "text": [
            "TERM FREQUENCY D1 - D5\n",
            "awal [0, 0, 1, 0, 0] \n",
            "\n",
            "df untuk kata awal :  1 \n",
            "\n",
            "Karena dokumen ada 5, hitung idf 'awal' dengan N = 5 :  0.6989700043360189 \n",
            "\n",
            "misal perhitungan idf dengan N = 1000 :  3.0 \n",
            "\n",
            "Ini adalah bobot kata 'awal' di tiap tiap dokumen (D1 - D5) berurutan :\n",
            "[0.0, 0.0, 0.6989700043360189, 0.0, 0.0]\n"
          ]
        }
      ]
    },
    {
      "cell_type": "code",
      "source": [
        "print(\"TERM FREQUENCY D1 - D5\")\n",
        "countBelajar = []\n",
        "\n",
        "for x in range(len(doc)):\n",
        "    d = doc[x].count(belajar)\n",
        "    countBelajar.append(d)\n",
        "    x += 1\n",
        "\n",
        "print(\"belajar\", countBelajar)\n",
        "\n",
        "\n",
        "dfBelajar = 0\n",
        "for i in range(len(countBelajar)):\n",
        "  if countBelajar[i] != 0:\n",
        "    dfBelajar += 1\n",
        "    i =+ 1\n",
        "\n",
        "print(\"df untuk kata belajar  : \", dfBelajar, \"\\n\")\n",
        "\n",
        "idfBelajar5 = math.log10(5/dfBelajar)\n",
        "print(\"Karena dokumen ada 5, hitung idf 'belajar' dengan N = 5 : \" , idfBelajar5, \"\\n\")\n",
        "\n",
        "idfBelajar1000 = math.log10(1000/dfBelajar)\n",
        "print(\"misal perhitungan idf dengan N = 1000 : \" , idfBelajar1000,\"\\n\")\n",
        "\n",
        "bobotBelajar = []\n",
        "for j in range(len(countBelajar)):\n",
        "  wBelajar = countBelajar[j] * idfBelajar5\n",
        "  bobotBelajar.append(wBelajar)\n",
        "\n",
        "print(\"Ini adalah bobot kata 'belajar' di tiap tiap dokumen (D1 - D5) berurutan :\")\n",
        "print(bobotBelajar)"
      ],
      "metadata": {
        "colab": {
          "base_uri": "https://localhost:8080/"
        },
        "id": "jeCImXhbNxT-",
        "outputId": "ff769571-f706-4cdd-b1d2-328b30baf3dc"
      },
      "execution_count": 121,
      "outputs": [
        {
          "output_type": "stream",
          "name": "stdout",
          "text": [
            "TERM FREQUENCY D1 - D5\n",
            "belajar [1, 0, 0, 0, 1]\n",
            "df untuk kata belajar  :  2 \n",
            "\n",
            "Karena dokumen ada 5, hitung idf 'belajar' dengan N = 5 :  0.3979400086720376 \n",
            "\n",
            "misal perhitungan idf dengan N = 1000 :  2.6989700043360187 \n",
            "\n",
            "Ini adalah bobot kata 'belajar' di tiap tiap dokumen (D1 - D5) berurutan :\n",
            "[0.3979400086720376, 0.0, 0.0, 0.0, 0.3979400086720376]\n"
          ]
        }
      ]
    },
    {
      "cell_type": "code",
      "source": [
        "print(\"TERM FREQUENCY D1 - D5\")\n",
        "countDokumen = []\n",
        "\n",
        "for x in range(len(doc)):\n",
        "    d = doc[x].count(dokumen)\n",
        "    countDokumen.append(d)\n",
        "    x += 1\n",
        "\n",
        "print(\"Dokumen\", countDokumen)\n",
        "\n",
        "\n",
        "dfDokumen = 0\n",
        "for i in range(len(countDokumen)):\n",
        "  if countDokumen[i] != 0:\n",
        "    dfDokumen += 1\n",
        "    i =+ 1\n",
        "\n",
        "print(\"df untuk kata Dokumen  : \", dfDokumen, \"\\n\")\n",
        "\n",
        "idfDokumen5 = math.log10(5/dfDokumen)\n",
        "print(\"Karena dokumen ada 5, hitung idf 'dokumen' dengan N = 5 : \" , idfDokumen5, \"\\n\")\n",
        "\n",
        "idfDokumen1000 = math.log10(1000/dfDokumen)\n",
        "print(\"misal perhitungan idf dengan N = 1000 : \" ,idfDokumen1000,\"\\n\")\n",
        "\n",
        "bobotDokumen = []\n",
        "for j in range(len(countDokumen)):\n",
        "  wDokumen = countDokumen[j] * idfDokumen5\n",
        "  bobotDokumen.append(wDokumen)\n",
        "\n",
        "print(\"Ini adalah bobot kata 'dokumen' di tiap tiap dokumen (D1 - D5) berurutan :\")\n",
        "print(bobotDokumen)"
      ],
      "metadata": {
        "colab": {
          "base_uri": "https://localhost:8080/"
        },
        "id": "qAspGH4kUP_D",
        "outputId": "128cfdd4-6843-4429-977c-56f6af0fe5d3"
      },
      "execution_count": 122,
      "outputs": [
        {
          "output_type": "stream",
          "name": "stdout",
          "text": [
            "TERM FREQUENCY D1 - D5\n",
            "Dokumen [0, 1, 0, 0, 0]\n",
            "df untuk kata Dokumen  :  1 \n",
            "\n",
            "Karena dokumen ada 5, hitung idf 'dokumen' dengan N = 5 :  0.6989700043360189 \n",
            "\n",
            "misal perhitungan idf dengan N = 1000 :  3.0 \n",
            "\n",
            "Ini adalah bobot kata 'dokumen' di tiap tiap dokumen (D1 - D5) berurutan :\n",
            "[0.0, 0.6989700043360189, 0.0, 0.0, 0.0]\n"
          ]
        }
      ]
    },
    {
      "cell_type": "code",
      "source": [
        "print(\"TERM FREQUENCY D1 - D5\")\n",
        "countFrekuensi = []\n",
        "\n",
        "for x in range(len(doc)):\n",
        "    d = doc[x].count(frekuensi)\n",
        "    countFrekuensi.append(d)\n",
        "    x += 1\n",
        "\n",
        "print(\"Frekuensi\", countFrekuensi)\n",
        "\n",
        "\n",
        "dfFrekuensi = 0\n",
        "for i in range(len(countFrekuensi)):\n",
        "  if countFrekuensi[i] != 0:\n",
        "    dfFrekuensi += 1\n",
        "    i =+ 1\n",
        "\n",
        "print(\"df untuk kata Frekuensi  : \", dfFrekuensi, \"\\n\")\n",
        "\n",
        "idfFrekuensi5 = math.log10(5/dfFrekuensi)\n",
        "print(\"Karena dokumen ada 5, hitung idf 'frekuensi' dengan N = 5 : \" , idfFrekuensi5, \"\\n\")\n",
        "\n",
        "idfFrekuensi1000 = math.log10(1000/dfFrekuensi)\n",
        "print(\"misal perhitungan idf dengan N = 1000 : \" , idfFrekuensi5,\"\\n\")\n",
        "\n",
        "bobotFrekuensi = []\n",
        "for j in range(len(countFrekuensi)):\n",
        "  wFrekuensi = countFrekuensi[j] * idfFrekuensi5\n",
        "  bobotFrekuensi.append(wFrekuensi)\n",
        "\n",
        "print(\"Ini adalah bobot kata 'frekuensi' di tiap tiap dokumen (D1 - D5) berurutan :\")\n",
        "print(bobotFrekuensi)"
      ],
      "metadata": {
        "colab": {
          "base_uri": "https://localhost:8080/"
        },
        "id": "kAbFaR5KQNqG",
        "outputId": "b4c0a6f6-7966-4abf-d800-e1bd80910cb8"
      },
      "execution_count": 123,
      "outputs": [
        {
          "output_type": "stream",
          "name": "stdout",
          "text": [
            "TERM FREQUENCY D1 - D5\n",
            "Frekuensi [0, 1, 0, 0, 0]\n",
            "df untuk kata Frekuensi  :  1 \n",
            "\n",
            "Karena dokumen ada 5, hitung idf 'frekuensi' dengan N = 5 :  0.6989700043360189 \n",
            "\n",
            "misal perhitungan idf dengan N = 1000 :  0.6989700043360189 \n",
            "\n",
            "Ini adalah bobot kata 'frekuensi' di tiap tiap dokumen (D1 - D5) berurutan :\n",
            "[0.0, 0.6989700043360189, 0.0, 0.0, 0.0]\n"
          ]
        }
      ]
    },
    {
      "cell_type": "code",
      "source": [
        "print(\"TERM FREQUENCY D1 - D5\")\n",
        "countHitung = []\n",
        "\n",
        "for x in range(len(doc)):\n",
        "    d = doc[x].count(hitung)\n",
        "    countHitung.append(d)\n",
        "    x += 1\n",
        "\n",
        "print(\"Hitung\", countHitung)\n",
        "\n",
        "\n",
        "dfHitung = 0\n",
        "for i in range(len(countHitung)):\n",
        "  if countHitung[i] != 0:\n",
        "    dfHitung += 1\n",
        "    i =+ 1\n",
        "\n",
        "print(\"df untuk kata Hitung  : \", dfHitung, \"\\n\")\n",
        "\n",
        "idfHitung5 = math.log10(5/dfHitung)\n",
        "print(\"Karena dokumen ada 5, hitung idf 'hitung' dengan N = 5 : \" , idfHitung5, \"\\n\")\n",
        "\n",
        "idfHitung1000 = math.log10(1000/dfHitung)\n",
        "print(\"misal perhitungan idf dengan N = 1000 : \" , idfHitung1000,\"\\n\")\n",
        "\n",
        "bobotHitung = []\n",
        "for j in range(len(countHitung)):\n",
        "  wHitung = countHitung[j] * idfHitung5\n",
        "  bobotHitung.append(wHitung)\n",
        "\n",
        "print(\"Ini adalah bobot kata 'Hitung' di tiap tiap dokumen (D1 - D5) berurutan :\")\n",
        "print(bobotHitung)"
      ],
      "metadata": {
        "colab": {
          "base_uri": "https://localhost:8080/"
        },
        "id": "jTZUJGrqQjJb",
        "outputId": "004b8815-0f35-4112-c956-60fc6244390c"
      },
      "execution_count": 124,
      "outputs": [
        {
          "output_type": "stream",
          "name": "stdout",
          "text": [
            "TERM FREQUENCY D1 - D5\n",
            "Hitung [1, 0, 3, 1, 0]\n",
            "df untuk kata Hitung  :  3 \n",
            "\n",
            "Karena dokumen ada 5, hitung idf 'hitung' dengan N = 5 :  0.22184874961635637 \n",
            "\n",
            "misal perhitungan idf dengan N = 1000 :  2.5228787452803374 \n",
            "\n",
            "Ini adalah bobot kata 'Hitung' di tiap tiap dokumen (D1 - D5) berurutan :\n",
            "[0.22184874961635637, 0.0, 0.6655462488490691, 0.22184874961635637, 0.0]\n"
          ]
        }
      ]
    },
    {
      "cell_type": "code",
      "source": [
        "print(\"TERM FREQUENCY D1 - D5\")\n",
        "countIdf = []\n",
        "\n",
        "for x in range(len(doc)):\n",
        "    d = doc[x].count(idf)\n",
        "    countIdf.append(d)\n",
        "    x += 1\n",
        "\n",
        "print(\"Idf\", countIdf)\n",
        "\n",
        "\n",
        "dfIdf = 0\n",
        "for i in range(len(countIdf)):\n",
        "  if countIdf[i] != 0:\n",
        "    dfIdf += 1\n",
        "    i =+ 1\n",
        "\n",
        "print(\"df untuk kata Idf  : \", dfIdf, \"\\n\")\n",
        "\n",
        "idfIdf5 = math.log10(5/dfIdf)\n",
        "print(\"Karena dokumen ada 5, hitung idf 'Idf' dengan N = 5 : \" , idfIdf5, \"\\n\")\n",
        "\n",
        "idfIdf1000 = math.log10(1000/dfIdf)\n",
        "print(\"misal perhitungan idf dengan N = 1000 : \" , idfIdf1000,\"\\n\")\n",
        "\n",
        "bobotIdf = []\n",
        "for j in range(len(countIdf)):\n",
        "  wIdf = countIdf[j] * idfIdf5\n",
        "  bobotIdf.append(wIdf)\n",
        "\n",
        "print(\"Ini adalah bobot kata 'Idf' di tiap tiap dokumen (D1 - D5) berurutan :\")\n",
        "print(bobotIdf)"
      ],
      "metadata": {
        "colab": {
          "base_uri": "https://localhost:8080/"
        },
        "id": "9PjY6hoaQqIB",
        "outputId": "1a636dd7-73df-4ff8-912d-0501ab60bb1e"
      },
      "execution_count": 125,
      "outputs": [
        {
          "output_type": "stream",
          "name": "stdout",
          "text": [
            "TERM FREQUENCY D1 - D5\n",
            "Idf [1, 1, 1, 1, 0]\n",
            "df untuk kata Idf  :  4 \n",
            "\n",
            "Karena dokumen ada 5, hitung idf 'Idf' dengan N = 5 :  0.09691001300805642 \n",
            "\n",
            "misal perhitungan idf dengan N = 1000 :  2.3979400086720375 \n",
            "\n",
            "Ini adalah bobot kata 'Idf' di tiap tiap dokumen (D1 - D5) berurutan :\n",
            "[0.09691001300805642, 0.09691001300805642, 0.09691001300805642, 0.09691001300805642, 0.0]\n"
          ]
        }
      ]
    },
    {
      "cell_type": "code",
      "source": [
        "print(\"TERM FREQUENCY D1 - D5\")\n",
        "countKita = []\n",
        "\n",
        "for x in range(len(doc)):\n",
        "    d = doc[x].count(kita)\n",
        "    countKita.append(d)\n",
        "    x += 1\n",
        "\n",
        "print(\"Kita\", countKita)\n",
        "\n",
        "\n",
        "\n",
        "dfKita = 0\n",
        "for i in range(len(countKita)):\n",
        "  if countKita[i] != 0:\n",
        "    dfKita += 1\n",
        "    i =+ 1\n",
        "\n",
        "print(\"df untuk kata Kita  : \", dfKita, \"\\n\")\n",
        "\n",
        "idfKita5 = math.log10(5/dfKita)\n",
        "print(\"Karena dokumen ada 5, hitung idf 'awal' dengan N = 5 : \" , idfKita5, \"\\n\")\n",
        "\n",
        "idfKita1000 = math.log10(1000/dfKita)\n",
        "print(\"misal perhitungan idf dengan N = 1000 : \" , idfKita1000,\"\\n\")\n",
        "\n",
        "bobotKita = []\n",
        "for j in range(len(countKita)):\n",
        "  wKita = countKita[j] * idfKita5\n",
        "  bobotKita.append(wKita)\n",
        "\n",
        "print(\"Ini adalah bobot kata 'Kita' di tiap tiap dokumen (D1 - D5) berurutan :\")\n",
        "print(bobotKita)"
      ],
      "metadata": {
        "colab": {
          "base_uri": "https://localhost:8080/"
        },
        "id": "6zKNa19DQ9Jo",
        "outputId": "0a26fd9c-abe0-4303-b1a0-9eb8d8590cae"
      },
      "execution_count": 126,
      "outputs": [
        {
          "output_type": "stream",
          "name": "stdout",
          "text": [
            "TERM FREQUENCY D1 - D5\n",
            "Kita [0, 0, 0, 0, 1]\n",
            "df untuk kata Kita  :  1 \n",
            "\n",
            "Karena dokumen ada 5, hitung idf 'awal' dengan N = 5 :  0.6989700043360189 \n",
            "\n",
            "misal perhitungan idf dengan N = 1000 :  3.0 \n",
            "\n",
            "Ini adalah bobot kata 'Kita' di tiap tiap dokumen (D1 - D5) berurutan :\n",
            "[0.0, 0.0, 0.0, 0.0, 0.6989700043360189]\n"
          ]
        }
      ]
    },
    {
      "cell_type": "code",
      "source": [
        "print(\"TERM FREQUENCY D1 - D5\")\n",
        "countLangkah = []\n",
        "\n",
        "for x in range(len(doc)):\n",
        "    d = doc[x].count(langkah)\n",
        "    countLangkah.append(d)\n",
        "    x += 1\n",
        "\n",
        "print(\"Langkah\", countLangkah)\n",
        "\n",
        "\n",
        "\n",
        "dfLangkah = 0\n",
        "for i in range(len(countLangkah)):\n",
        "  if countLangkah[i] != 0:\n",
        "    dfLangkah += 1\n",
        "    i =+ 1\n",
        "\n",
        "print(\"df untuk kata Langkah  : \", dfLangkah, \"\\n\")\n",
        "\n",
        "idfLangkah5 = math.log10(5/dfLangkah)\n",
        "print(\"Karena dokumen ada 5, hitung idf 'awal' dengan N = 5 : \" , idfLangkah5, \"\\n\")\n",
        "\n",
        "idfLangkah1000 = math.log10(1000/dfLangkah)\n",
        "print(\"misal perhitungan idf dengan N = 1000 : \" , idfLangkah1000,\"\\n\")\n",
        "\n",
        "bobotLangkah = []\n",
        "for j in range(len(countLangkah)):\n",
        "  wLangkah = countLangkah[j] * idfLangkah5\n",
        "  bobotLangkah.append(wLangkah)\n",
        "\n",
        "print(\"Ini adalah bobot kata 'Langkah' di tiap tiap dokumen (D1 - D5) berurutan :\")\n",
        "print(bobotLangkah)"
      ],
      "metadata": {
        "colab": {
          "base_uri": "https://localhost:8080/"
        },
        "id": "MYI3MszzRShz",
        "outputId": "8dbc8cf8-5cd6-4e3a-fa4f-b585895c9f1b"
      },
      "execution_count": 127,
      "outputs": [
        {
          "output_type": "stream",
          "name": "stdout",
          "text": [
            "TERM FREQUENCY D1 - D5\n",
            "Langkah [0, 0, 1, 1, 0]\n",
            "df untuk kata Langkah  :  2 \n",
            "\n",
            "Karena dokumen ada 5, hitung idf 'awal' dengan N = 5 :  0.3979400086720376 \n",
            "\n",
            "misal perhitungan idf dengan N = 1000 :  2.6989700043360187 \n",
            "\n",
            "Ini adalah bobot kata 'Langkah' di tiap tiap dokumen (D1 - D5) berurutan :\n",
            "[0.0, 0.0, 0.3979400086720376, 0.3979400086720376, 0.0]\n"
          ]
        }
      ]
    },
    {
      "cell_type": "code",
      "source": [
        "print(\"TERM FREQUENCY D1 - D5\")\n",
        "countMuncul = []\n",
        "\n",
        "for x in range(len(doc)):\n",
        "    d = doc[x].count(muncul)\n",
        "    countMuncul.append(d)\n",
        "    x += 1\n",
        "\n",
        "print(\"Muncul\", countMuncul)\n",
        "\n",
        "\n",
        "\n",
        "dfMuncul = 0\n",
        "for i in range(len(countMuncul)):\n",
        "  if countMuncul[i] != 0:\n",
        "    dfMuncul += 1\n",
        "    i =+ 1\n",
        "\n",
        "print(\"df untuk kata Muncul  : \", dfMuncul, \"\\n\")\n",
        "\n",
        "idfMuncul5 = math.log10(5/dfMuncul)\n",
        "print(\"Karena dokumen ada 5, hitung idf 'awal' dengan N = 5 : \" , idfMuncul5, \"\\n\")\n",
        "\n",
        "idfMuncul1000 = math.log10(1000/dfMuncul)\n",
        "print(\"misal perhitungan idf dengan N = 1000 : \" , idfMuncul1000,\"\\n\")\n",
        "\n",
        "bobotMuncul = []\n",
        "for j in range(len(countMuncul)):\n",
        "  wMuncul = countMuncul[j] * idfMuncul5\n",
        "  bobotMuncul.append(wMuncul)\n",
        "\n",
        "print(\"Ini adalah bobot kata 'Muncul' di tiap tiap dokumen (D1 - D5) berurutan :\")\n",
        "print(bobotMuncul)"
      ],
      "metadata": {
        "colab": {
          "base_uri": "https://localhost:8080/"
        },
        "id": "6AmyfLblRbxZ",
        "outputId": "3c6d23f0-e9f8-4726-ffba-61f0f2fdf41c"
      },
      "execution_count": 128,
      "outputs": [
        {
          "output_type": "stream",
          "name": "stdout",
          "text": [
            "TERM FREQUENCY D1 - D5\n",
            "Muncul [0, 1, 0, 0, 0]\n",
            "df untuk kata Muncul  :  1 \n",
            "\n",
            "Karena dokumen ada 5, hitung idf 'awal' dengan N = 5 :  0.6989700043360189 \n",
            "\n",
            "misal perhitungan idf dengan N = 1000 :  3.0 \n",
            "\n",
            "Ini adalah bobot kata 'Muncul' di tiap tiap dokumen (D1 - D5) berurutan :\n",
            "[0.0, 0.6989700043360189, 0.0, 0.0, 0.0]\n"
          ]
        }
      ]
    },
    {
      "cell_type": "code",
      "source": [
        "print(\"TERM FREQUENCY D1 - D5\")\n",
        "countSaya = []\n",
        "\n",
        "for x in range(len(doc)):\n",
        "    d = doc[x].count(saya)\n",
        "    countSaya.append(d)\n",
        "    x += 1\n",
        "\n",
        "print(\"Saya\", countSaya)\n",
        "\n",
        "\n",
        "\n",
        "dfSaya = 0\n",
        "for i in range(len(countSaya)):\n",
        "  if countSaya[i] != 0:\n",
        "    dfSaya += 1\n",
        "    i =+ 1\n",
        "\n",
        "print(\"df untuk kata Saya  : \", dfSaya, \"\\n\")\n",
        "\n",
        "idfSaya5 = math.log10(5/dfSaya)\n",
        "print(\"Karena dokumen ada 5, hitung idf 'awal' dengan N = 5 : \" , idfSaya5, \"\\n\")\n",
        "\n",
        "idfSaya1000 =  math.log10(1000/dfSaya)\n",
        "print(\"misal perhitungan idf dengan N = 1000 : \" , idfSaya1000,\"\\n\")\n",
        "\n",
        "bobotSaya = []\n",
        "for j in range(len(countSaya)):\n",
        "  wSaya = countSaya[j] * idfSaya5\n",
        "  bobotSaya.append(wSaya)\n",
        "\n",
        "print(\"Ini adalah bobot kata 'Saya' di tiap tiap dokumen (D1 - D5) berurutan :\")\n",
        "print(bobotSaya)"
      ],
      "metadata": {
        "colab": {
          "base_uri": "https://localhost:8080/"
        },
        "id": "p22KlHjURnUu",
        "outputId": "2bee90bc-678d-47ea-d0b1-1648e1a5f590"
      },
      "execution_count": 129,
      "outputs": [
        {
          "output_type": "stream",
          "name": "stdout",
          "text": [
            "TERM FREQUENCY D1 - D5\n",
            "Saya [1, 0, 0, 0, 0]\n",
            "df untuk kata Saya  :  1 \n",
            "\n",
            "Karena dokumen ada 5, hitung idf 'awal' dengan N = 5 :  0.6989700043360189 \n",
            "\n",
            "misal perhitungan idf dengan N = 1000 :  3.0 \n",
            "\n",
            "Ini adalah bobot kata 'Saya' di tiap tiap dokumen (D1 - D5) berurutan :\n",
            "[0.6989700043360189, 0.0, 0.0, 0.0, 0.0]\n"
          ]
        }
      ]
    },
    {
      "cell_type": "code",
      "source": [
        "print(\"TERM FREQUENCY D1 - D5\")\n",
        "countTerm = []\n",
        "\n",
        "for x in range(len(doc)):\n",
        "    d = doc[x].count(term)\n",
        "    countTerm.append(d)\n",
        "    x += 1\n",
        "\n",
        "print(\"Term\", countTerm)\n",
        "\n",
        "\n",
        "dfTerm = 0\n",
        "for i in range(len(countTerm)):\n",
        "  if countTerm[i] != 0:\n",
        "    dfTerm += 1\n",
        "    i =+ 1\n",
        "\n",
        "print(\"df untuk kata Term  : \", dfTerm, \"\\n\")\n",
        "\n",
        "idfTerm5 = math.log10(5/dfTerm)\n",
        "print(\"Karena dokumen ada 5, hitung idf 'awal' dengan N = 5 : \" , idfTerm5, \"\\n\")\n",
        "\n",
        "idfTerm1000 = math.log10(1000/dfTerm)\n",
        "print(\"misal perhitungan idf dengan N = 1000 : \" , idfTerm1000,\"\\n\")\n",
        "\n",
        "bobotTerm = []\n",
        "for j in range(len(countTerm)):\n",
        "  wTerm = countTerm[j] * idfTerm5\n",
        "  bobotTerm.append(wTerm)\n",
        "\n",
        "print(\"Ini adalah bobot kata 'Term' di tiap tiap dokumen (D1 - D5) berurutan :\")\n",
        "print(bobotTerm)"
      ],
      "metadata": {
        "colab": {
          "base_uri": "https://localhost:8080/"
        },
        "id": "oH1P7RiHRtle",
        "outputId": "d0f2841c-9037-4d4c-83db-d78ed6987ddb"
      },
      "execution_count": 130,
      "outputs": [
        {
          "output_type": "stream",
          "name": "stdout",
          "text": [
            "TERM FREQUENCY D1 - D5\n",
            "Term [0, 1, 0, 0, 0]\n",
            "df untuk kata Term  :  1 \n",
            "\n",
            "Karena dokumen ada 5, hitung idf 'awal' dengan N = 5 :  0.6989700043360189 \n",
            "\n",
            "misal perhitungan idf dengan N = 1000 :  3.0 \n",
            "\n",
            "Ini adalah bobot kata 'Term' di tiap tiap dokumen (D1 - D5) berurutan :\n",
            "[0.0, 0.6989700043360189, 0.0, 0.0, 0.0]\n"
          ]
        }
      ]
    },
    {
      "cell_type": "code",
      "source": [
        "print(\"TERM FREQUENCY D1 - D5\")\n",
        "countTf = []\n",
        "\n",
        "for x in range(len(doc)):\n",
        "    d = doc[x].count(tf)\n",
        "    countTf.append(d)\n",
        "    x += 1\n",
        "\n",
        "print(\"Tf\", countTf)\n",
        "\n",
        "\n",
        "\n",
        "dfTf = 0\n",
        "for i in range(len(countTf)):\n",
        "  if countTf[i] != 0:\n",
        "    dfTf += 1\n",
        "    i =+ 1\n",
        "\n",
        "print(\"df untuk kata Tf  : \", dfTf, \"\\n\")\n",
        "\n",
        "idfTf5 = math.log10(5/dfTf)\n",
        "print(\"Karena dokumen ada 5, hitung idf 'awal' dengan N = 5 : \" , idfTf5, \"\\n\")\n",
        "\n",
        "idfTf1000 =math.log10(1000/dfTf)\n",
        "print(\"misal perhitungan idf dengan N = 1000 : \" , idfTf1000,\"\\n\")\n",
        "\n",
        "bobotTf = []\n",
        "for j in range(len(countTf)):\n",
        "  wTf = countTf[j] * idfTf5\n",
        "  bobotTf.append(wTf)\n",
        "\n",
        "print(\"Ini adalah bobot kata 'Tf' di tiap tiap dokumen (D1 - D5) berurutan :\")\n",
        "print(bobotTf)"
      ],
      "metadata": {
        "colab": {
          "base_uri": "https://localhost:8080/"
        },
        "id": "kz9G-xNuRzdf",
        "outputId": "775fe294-f404-44a2-e981-9007a530791e"
      },
      "execution_count": 131,
      "outputs": [
        {
          "output_type": "stream",
          "name": "stdout",
          "text": [
            "TERM FREQUENCY D1 - D5\n",
            "Tf [1, 1, 1, 1, 0]\n",
            "df untuk kata Tf  :  4 \n",
            "\n",
            "Karena dokumen ada 5, hitung idf 'awal' dengan N = 5 :  0.09691001300805642 \n",
            "\n",
            "misal perhitungan idf dengan N = 1000 :  2.3979400086720375 \n",
            "\n",
            "Ini adalah bobot kata 'Tf' di tiap tiap dokumen (D1 - D5) berurutan :\n",
            "[0.09691001300805642, 0.09691001300805642, 0.09691001300805642, 0.09691001300805642, 0.0]\n"
          ]
        }
      ]
    },
    {
      "cell_type": "code",
      "source": [
        "table = [['Term (t)', 'D1', 'D2', 'D3', 'D4', 'D5', 'df','idf dengan N =5', 'idf dengan N = 1000','bobot D1', 'bobot D2', 'bobot D3', 'bobot D4', 'bobot D5'], \n",
        "         [akhir, countAkhir[0], countAkhir[1], countAkhir[2], countAkhir[3], countAkhir[4], dfAkhir, idfAkhir5, idfAkhir1000, bobotAkhir[0], bobotAkhir[1], bobotAkhir[2], bobotAkhir[3], bobotAkhir[4]],\n",
        "         [awal, countAwal[0], countAwal[1], countAwal[2], countAwal[3], countAwal[4], dfAwal, idfAwal5, idfAwal1000, bobotAwal[0], bobotAwal[1], bobotAwal[2], bobotAwal[3], bobotAwal[4]],\n",
        "         [belajar, countBelajar[0], countBelajar[1], countBelajar[2], countBelajar[3], countBelajar[4], dfBelajar, idfBelajar5, idfBelajar1000, bobotBelajar[0], bobotBelajar[1], bobotBelajar[2], bobotBelajar[3], bobotBelajar[4]],\n",
        "         [dokumen, countDokumen[0], countDokumen[1], countDokumen[2], countDokumen[3], countDokumen[4], dfDokumen, idfDokumen5, idfDokumen1000, bobotDokumen[0], bobotDokumen[1], bobotDokumen[2], bobotDokumen[3], bobotDokumen[4]],\n",
        "         [frekuensi, countFrekuensi[0], countFrekuensi[1], countFrekuensi[2], countFrekuensi[3], countFrekuensi[4], dfFrekuensi, idfFrekuensi5, idfFrekuensi1000, bobotFrekuensi[0], bobotFrekuensi[1], bobotFrekuensi[2], bobotFrekuensi[3], bobotFrekuensi[4]],\n",
        "         [hitung, countHitung[0], countHitung[1], countHitung[2], countHitung[3], countHitung[4], dfHitung, idfHitung5, idfHitung1000, bobotHitung[0], bobotHitung[1], bobotHitung[2], bobotHitung[3], bobotHitung[4]],\n",
        "         [idf, countIdf[0], countIdf[1], countIdf[2], countIdf[3], countIdf[4], dfIdf, idfIdf5, idfIdf1000, bobotIdf[0], bobotIdf[1], bobotIdf[2], bobotIdf[3], bobotIdf[4]],\n",
        "         [kita, countKita[0], countKita[1], countKita[2], countKita[3], countKita[4], dfKita, idfKita5, idfKita1000, bobotKita[0], bobotKita[1], bobotKita[2], bobotKita[3], bobotKita[4]],\n",
        "         [langkah, countLangkah[0], countLangkah[1], countLangkah[2], countLangkah[3], countLangkah[4], dfLangkah, idfLangkah5, idfLangkah1000, bobotLangkah[0], bobotLangkah[1], bobotLangkah[2], bobotLangkah[3], bobotLangkah[4]],\n",
        "         [muncul, countMuncul[0], countMuncul[1], countMuncul[2], countMuncul[3], countMuncul[4], dfMuncul, idfMuncul5, idfMuncul1000, bobotMuncul[0], bobotMuncul[1], bobotMuncul[2], bobotMuncul[3], bobotMuncul[4]],\n",
        "         [saya, countSaya[0], countSaya[1], countSaya[2], countSaya[3], countSaya[4], dfSaya, idfSaya5, idfSaya1000, bobotSaya[0], bobotSaya[1], bobotSaya[2], bobotSaya[3], bobotSaya[4]],\n",
        "         [term, countTerm[0], countTerm[1], countTerm[2], countTerm[3], countTerm[4], dfTerm, idfTerm5, idfTerm1000, bobotTerm[0], bobotTerm[1], bobotTerm[2], bobotTerm[3], bobotTerm[4]],\n",
        "         [tf, countTf[0], countTf[1], countTf[2], countTf[3], countTf[4], dfTf, idfTf5, idfTf1000, bobotTf[0], bobotTf[1], bobotTf[2], bobotTf[3], bobotTf[4]],\n",
        "         \n",
        "         ]"
      ],
      "metadata": {
        "id": "VypdXnBz5bw8"
      },
      "execution_count": 132,
      "outputs": []
    },
    {
      "cell_type": "code",
      "source": [
        "print(tabulate(table))"
      ],
      "metadata": {
        "colab": {
          "base_uri": "https://localhost:8080/"
        },
        "id": "5WZuPz_r6DPn",
        "outputId": "f8f5a2a6-1713-4c55-d62f-5f253a2c1b03"
      },
      "execution_count": 133,
      "outputs": [
        {
          "output_type": "stream",
          "name": "stdout",
          "text": [
            "---------  --  --  --  --  --  --  -------------------  -------------------  -------------------  -------------------  -------------------  -------------------  ------------------\n",
            "Term (t)   D1  D2  D3  D4  D5  df  idf dengan N =5      idf dengan N = 1000  bobot D1             bobot D2             bobot D3             bobot D4             bobot D5\n",
            "akhir      0   0   0   1   0   1   0.6989700043360189   3.0                  0.0                  0.0                  0.0                  0.6989700043360189   0.0\n",
            "awal       0   0   1   0   0   1   0.6989700043360189   3.0                  0.0                  0.0                  0.6989700043360189   0.0                  0.0\n",
            "belajar    1   0   0   0   1   2   0.3979400086720376   2.6989700043360187   0.3979400086720376   0.0                  0.0                  0.0                  0.3979400086720376\n",
            "dokumen    0   1   0   0   0   1   0.6989700043360189   3.0                  0.0                  0.6989700043360189   0.0                  0.0                  0.0\n",
            "frekuensi  0   1   0   0   0   1   0.6989700043360189   3.0                  0.0                  0.6989700043360189   0.0                  0.0                  0.0\n",
            "hitung     1   0   3   1   0   3   0.22184874961635637  2.5228787452803374   0.22184874961635637  0.0                  0.6655462488490691   0.22184874961635637  0.0\n",
            "idf        1   1   1   1   0   4   0.09691001300805642  2.3979400086720375   0.09691001300805642  0.09691001300805642  0.09691001300805642  0.09691001300805642  0.0\n",
            "kita       0   0   0   0   1   1   0.6989700043360189   3.0                  0.0                  0.0                  0.0                  0.0                  0.6989700043360189\n",
            "langkah    0   0   1   1   0   2   0.3979400086720376   2.6989700043360187   0.0                  0.0                  0.3979400086720376   0.3979400086720376   0.0\n",
            "muncul     0   1   0   0   0   1   0.6989700043360189   3.0                  0.0                  0.6989700043360189   0.0                  0.0                  0.0\n",
            "saya       1   0   0   0   0   1   0.6989700043360189   3.0                  0.6989700043360189   0.0                  0.0                  0.0                  0.0\n",
            "term       0   1   0   0   0   1   0.6989700043360189   3.0                  0.0                  0.6989700043360189   0.0                  0.0                  0.0\n",
            "tf         1   1   1   1   0   4   0.09691001300805642  2.3979400086720375   0.09691001300805642  0.09691001300805642  0.09691001300805642  0.09691001300805642  0.0\n",
            "---------  --  --  --  --  --  --  -------------------  -------------------  -------------------  -------------------  -------------------  -------------------  ------------------\n"
          ]
        }
      ]
    },
    {
      "cell_type": "code",
      "source": [],
      "metadata": {
        "id": "ShWZ53n84QXT"
      },
      "execution_count": null,
      "outputs": []
    }
  ]
}