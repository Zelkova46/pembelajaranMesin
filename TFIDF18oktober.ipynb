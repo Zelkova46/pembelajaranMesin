{
  "nbformat": 4,
  "nbformat_minor": 0,
  "metadata": {
    "colab": {
      "provenance": [],
      "collapsed_sections": [],
      "authorship_tag": "ABX9TyPdiA6aHySkWurDLWIyuhcq",
      "include_colab_link": true
    },
    "kernelspec": {
      "name": "python3",
      "display_name": "Python 3"
    },
    "language_info": {
      "name": "python"
    }
  },
  "cells": [
    {
      "cell_type": "markdown",
      "metadata": {
        "id": "view-in-github",
        "colab_type": "text"
      },
      "source": [
        "<a href=\"https://colab.research.google.com/github/imambritish/pembelajaranMesin/blob/main/TFIDF18oktober.ipynb\" target=\"_parent\"><img src=\"https://colab.research.google.com/assets/colab-badge.svg\" alt=\"Open In Colab\"/></a>"
      ]
    },
    {
      "cell_type": "markdown",
      "source": [
        "NAMA : Muhammad Imam Ariq Sya'bana\n",
        "\n",
        "NIM  : 20106050041"
      ],
      "metadata": {
        "id": "I-ScnDYpG2YX"
      }
    },
    {
      "cell_type": "code",
      "execution_count": null,
      "metadata": {
        "id": "U7RMHTtGGvD4"
      },
      "outputs": [],
      "source": [
        "from sklearn.feature_extraction.text import CountVectorizer\n",
        "import pandas as pd"
      ]
    },
    {
      "cell_type": "code",
      "source": [
        "corpus = [\"British Prime Minister Liz Truss has apologized for the mistakes made in her economic policies, but declined to step down from the post.\",\n",
        "          \"She had attempted to steer the economy toward growth through major tax cuts amid record levels of inflation.\", \n",
        "          \"But concerns that the moves could aggravate the country's finances led to market confusion, including a plunge in the value of the pound against the dollar.\",\n",
        "          \"She was forced to reverse most of her signature policies. She replaced Chancellor of the Exchequer Kwasi Kwarteng with Jeremy Hunt on Friday.\",\n",
        "          \"Truss said in the interview that she wants to accept responsibility and that she was sorry for the mistakes that were made.\",\n",
        "          \"Truss, who became prime minister just last month, was speaking in an interview with the BBC on Monday.\",\n",
        "          \"Referring to replacing her finance minister, Truss said she has appointed a new chancellor with a new strategy to restore economic stability.\",\n",
        "          \"Truss insisted that she will lead the party into the next general election. \"\n",
        "          ]"
      ],
      "metadata": {
        "id": "NsCJGTcEJ8zu"
      },
      "execution_count": 58,
      "outputs": []
    },
    {
      "cell_type": "markdown",
      "source": [
        "Hitung TF"
      ],
      "metadata": {
        "id": "Nr9GIZroKst9"
      }
    },
    {
      "cell_type": "code",
      "source": [
        "#instantiate CountVectorizer()\n",
        "vectorizer = CountVectorizer()\n",
        "\n",
        "# this steps genereates word counts for the words in your docs\n",
        "X = vectorizer.fit_transform(corpus)\n"
      ],
      "metadata": {
        "id": "60IBeB3EK0GO"
      },
      "execution_count": 59,
      "outputs": []
    },
    {
      "cell_type": "code",
      "source": [
        "X[0]"
      ],
      "metadata": {
        "colab": {
          "base_uri": "https://localhost:8080/"
        },
        "id": "RqhUyn16LIj_",
        "outputId": "24ffadef-fdcc-40b9-b2cb-ee8e8ba59b62"
      },
      "execution_count": 60,
      "outputs": [
        {
          "output_type": "execute_result",
          "data": {
            "text/plain": [
              "<1x102 sparse matrix of type '<class 'numpy.int64'>'\n",
              "\twith 22 stored elements in Compressed Sparse Row format>"
            ]
          },
          "metadata": {},
          "execution_count": 60
        }
      ]
    },
    {
      "cell_type": "code",
      "source": [
        "vectorizer.get_feature_names_out()"
      ],
      "metadata": {
        "colab": {
          "base_uri": "https://localhost:8080/"
        },
        "id": "P1j9HupDLJkP",
        "outputId": "c33c5d6a-9bbe-42a6-f10d-dd9947e75628"
      },
      "execution_count": 61,
      "outputs": [
        {
          "output_type": "execute_result",
          "data": {
            "text/plain": [
              "array(['accept', 'against', 'aggravate', 'amid', 'an', 'and',\n",
              "       'apologized', 'appointed', 'attempted', 'bbc', 'became', 'british',\n",
              "       'but', 'chancellor', 'concerns', 'confusion', 'could', 'country',\n",
              "       'cuts', 'declined', 'dollar', 'down', 'economic', 'economy',\n",
              "       'election', 'exchequer', 'finance', 'finances', 'for', 'forced',\n",
              "       'friday', 'from', 'general', 'growth', 'had', 'has', 'her', 'hunt',\n",
              "       'in', 'including', 'inflation', 'insisted', 'interview', 'into',\n",
              "       'jeremy', 'just', 'kwarteng', 'kwasi', 'last', 'lead', 'led',\n",
              "       'levels', 'liz', 'made', 'major', 'market', 'minister', 'mistakes',\n",
              "       'monday', 'month', 'most', 'moves', 'new', 'next', 'of', 'on',\n",
              "       'party', 'plunge', 'policies', 'post', 'pound', 'prime', 'record',\n",
              "       'referring', 'replaced', 'replacing', 'responsibility', 'restore',\n",
              "       'reverse', 'said', 'she', 'signature', 'sorry', 'speaking',\n",
              "       'stability', 'steer', 'step', 'strategy', 'tax', 'that', 'the',\n",
              "       'through', 'to', 'toward', 'truss', 'value', 'wants', 'was',\n",
              "       'were', 'who', 'will', 'with'], dtype=object)"
            ]
          },
          "metadata": {},
          "execution_count": 61
        }
      ]
    },
    {
      "cell_type": "code",
      "source": [
        "print(X.toarray())"
      ],
      "metadata": {
        "colab": {
          "base_uri": "https://localhost:8080/"
        },
        "id": "UT8K45cxMNpu",
        "outputId": "21848071-faa7-42de-cb6a-433175db43bc"
      },
      "execution_count": 62,
      "outputs": [
        {
          "output_type": "stream",
          "name": "stdout",
          "text": [
            "[[0 0 0 0 0 0 1 0 0 0 0 1 1 0 0 0 0 0 0 1 0 1 1 0 0 0 0 0 1 0 0 1 0 0 0 1\n",
            "  1 0 1 0 0 0 0 0 0 0 0 0 0 0 0 0 1 1 0 0 1 1 0 0 0 0 0 0 0 0 0 0 1 1 0 1\n",
            "  0 0 0 0 0 0 0 0 0 0 0 0 0 0 1 0 0 0 2 0 1 0 1 0 0 0 0 0 0 0]\n",
            " [0 0 0 1 0 0 0 0 1 0 0 0 0 0 0 0 0 0 1 0 0 0 0 1 0 0 0 0 0 0 0 0 0 1 1 0\n",
            "  0 0 0 0 1 0 0 0 0 0 0 0 0 0 0 1 0 0 1 0 0 0 0 0 0 0 0 0 1 0 0 0 0 0 0 0\n",
            "  1 0 0 0 0 0 0 0 1 0 0 0 0 1 0 0 1 0 1 1 1 1 0 0 0 0 0 0 0 0]\n",
            " [0 1 1 0 0 0 0 0 0 0 0 0 1 0 1 1 1 1 0 0 1 0 0 0 0 0 0 1 0 0 0 0 0 0 0 0\n",
            "  0 0 1 1 0 0 0 0 0 0 0 0 0 0 1 0 0 0 0 1 0 0 0 0 0 1 0 0 1 0 0 1 0 0 1 0\n",
            "  0 0 0 0 0 0 0 0 0 0 0 0 0 0 0 0 0 1 5 0 1 0 0 1 0 0 0 0 0 0]\n",
            " [0 0 0 0 0 0 0 0 0 0 0 0 0 1 0 0 0 0 0 0 0 0 0 0 0 1 0 0 0 1 1 0 0 0 0 0\n",
            "  1 1 0 0 0 0 0 0 1 0 1 1 0 0 0 0 0 0 0 0 0 0 0 0 1 0 0 0 2 1 0 0 1 0 0 0\n",
            "  0 0 1 0 0 0 1 0 2 1 0 0 0 0 0 0 0 0 1 0 1 0 0 0 0 1 0 0 0 1]\n",
            " [1 0 0 0 0 1 0 0 0 0 0 0 0 0 0 0 0 0 0 0 0 0 0 0 0 0 0 0 1 0 0 0 0 0 0 0\n",
            "  0 0 1 0 0 0 1 0 0 0 0 0 0 0 0 0 0 1 0 0 0 1 0 0 0 0 0 0 0 0 0 0 0 0 0 0\n",
            "  0 0 0 0 1 0 0 1 2 0 1 0 0 0 0 0 0 3 2 0 1 0 1 0 1 1 1 0 0 0]\n",
            " [0 0 0 0 1 0 0 0 0 1 1 0 0 0 0 0 0 0 0 0 0 0 0 0 0 0 0 0 0 0 0 0 0 0 0 0\n",
            "  0 0 1 0 0 0 1 0 0 1 0 0 1 0 0 0 0 0 0 0 1 0 1 1 0 0 0 0 0 1 0 0 0 0 0 1\n",
            "  0 0 0 0 0 0 0 0 0 0 0 1 0 0 0 0 0 0 1 0 0 0 1 0 0 1 0 1 0 1]\n",
            " [0 0 0 0 0 0 0 1 0 0 0 0 0 1 0 0 0 0 0 0 0 0 1 0 0 0 1 0 0 0 0 0 0 0 0 1\n",
            "  1 0 0 0 0 0 0 0 0 0 0 0 0 0 0 0 0 0 0 0 1 0 0 0 0 0 2 0 0 0 0 0 0 0 0 0\n",
            "  0 1 0 1 0 1 0 1 1 0 0 0 1 0 0 1 0 0 0 0 2 0 1 0 0 0 0 0 0 1]\n",
            " [0 0 0 0 0 0 0 0 0 0 0 0 0 0 0 0 0 0 0 0 0 0 0 0 1 0 0 0 0 0 0 0 1 0 0 0\n",
            "  0 0 0 0 0 1 0 1 0 0 0 0 0 1 0 0 0 0 0 0 0 0 0 0 0 0 0 1 0 0 1 0 0 0 0 0\n",
            "  0 0 0 0 0 0 0 0 1 0 0 0 0 0 0 0 0 1 2 0 0 0 1 0 0 0 0 0 1 0]]\n"
          ]
        }
      ]
    },
    {
      "cell_type": "markdown",
      "source": [
        "N-gram"
      ],
      "metadata": {
        "id": "P-mQKsg1Qsch"
      }
    },
    {
      "cell_type": "code",
      "source": [
        "vectorizer2 = CountVectorizer(analyzer = 'word', ngram_range = (2,2))\n",
        "X2 = vectorizer2.fit_transform(corpus)\n",
        "vectorizer2.get_feature_names_out()"
      ],
      "metadata": {
        "colab": {
          "base_uri": "https://localhost:8080/"
        },
        "id": "xUSDnAVML7Eo",
        "outputId": "8d76336c-8ff7-40a1-872e-4bbf5b8a268c"
      },
      "execution_count": 63,
      "outputs": [
        {
          "output_type": "execute_result",
          "data": {
            "text/plain": [
              "array(['accept responsibility', 'against the', 'aggravate the',\n",
              "       'amid record', 'an interview', 'and that', 'apologized for',\n",
              "       'appointed new', 'attempted to', 'bbc on', 'became prime',\n",
              "       'british prime', 'but concerns', 'but declined', 'chancellor of',\n",
              "       'chancellor with', 'concerns that', 'confusion including',\n",
              "       'could aggravate', 'country finances', 'cuts amid', 'declined to',\n",
              "       'down from', 'economic policies', 'economic stability',\n",
              "       'economy toward', 'exchequer kwasi', 'finance minister',\n",
              "       'finances led', 'for the', 'forced to', 'from the',\n",
              "       'general election', 'growth through', 'had attempted',\n",
              "       'has apologized', 'has appointed', 'her economic', 'her finance',\n",
              "       'her signature', 'hunt on', 'in an', 'in her', 'in the',\n",
              "       'including plunge', 'insisted that', 'interview that',\n",
              "       'interview with', 'into the', 'jeremy hunt', 'just last',\n",
              "       'kwarteng with', 'kwasi kwarteng', 'last month', 'lead the',\n",
              "       'led to', 'levels of', 'liz truss', 'made in', 'major tax',\n",
              "       'market confusion', 'minister just', 'minister liz',\n",
              "       'minister truss', 'mistakes made', 'mistakes that', 'month was',\n",
              "       'most of', 'moves could', 'new chancellor', 'new strategy',\n",
              "       'next general', 'of her', 'of inflation', 'of the', 'on friday',\n",
              "       'on monday', 'party into', 'plunge in', 'policies but',\n",
              "       'policies she', 'pound against', 'prime minister', 'record levels',\n",
              "       'referring to', 'replaced chancellor', 'replacing her',\n",
              "       'responsibility and', 'restore economic', 'reverse most',\n",
              "       'said in', 'said she', 'she had', 'she has', 'she replaced',\n",
              "       'she wants', 'she was', 'she will', 'signature policies',\n",
              "       'sorry for', 'speaking in', 'steer the', 'step down',\n",
              "       'strategy to', 'tax cuts', 'that she', 'that the', 'that were',\n",
              "       'the bbc', 'the country', 'the dollar', 'the economy',\n",
              "       'the exchequer', 'the interview', 'the mistakes', 'the moves',\n",
              "       'the next', 'the party', 'the post', 'the pound', 'the value',\n",
              "       'through major', 'to accept', 'to market', 'to replacing',\n",
              "       'to restore', 'to reverse', 'to steer', 'to step', 'toward growth',\n",
              "       'truss has', 'truss insisted', 'truss said', 'truss who',\n",
              "       'value of', 'wants to', 'was forced', 'was sorry', 'was speaking',\n",
              "       'were made', 'who became', 'will lead', 'with jeremy', 'with new',\n",
              "       'with the'], dtype=object)"
            ]
          },
          "metadata": {},
          "execution_count": 63
        }
      ]
    },
    {
      "cell_type": "code",
      "source": [
        "print(X2.toarray())"
      ],
      "metadata": {
        "colab": {
          "base_uri": "https://localhost:8080/"
        },
        "id": "X_YvaQBUROrG",
        "outputId": "3d05ca2f-5199-455c-b615-44bb823313d8"
      },
      "execution_count": 64,
      "outputs": [
        {
          "output_type": "stream",
          "name": "stdout",
          "text": [
            "[[0 0 0 ... 0 0 0]\n",
            " [0 0 0 ... 0 0 0]\n",
            " [0 1 1 ... 0 0 0]\n",
            " ...\n",
            " [0 0 0 ... 0 0 1]\n",
            " [0 0 0 ... 0 1 0]\n",
            " [0 0 0 ... 0 0 0]]\n"
          ]
        }
      ]
    },
    {
      "cell_type": "markdown",
      "source": [
        "Compute IDF Value"
      ],
      "metadata": {
        "id": "QCiOQHEoVKWF"
      }
    },
    {
      "cell_type": "code",
      "source": [
        "from sklearn.feature_extraction.text import TfidfTransformer"
      ],
      "metadata": {
        "id": "-QajqHplS3RA"
      },
      "execution_count": 65,
      "outputs": []
    },
    {
      "cell_type": "code",
      "source": [
        "tfidf_transformer = TfidfTransformer(smooth_idf = True, use_idf = True)\n",
        "tfidf_transformer.fit(X)"
      ],
      "metadata": {
        "colab": {
          "base_uri": "https://localhost:8080/"
        },
        "id": "H8EFvu8JVWdW",
        "outputId": "c9425ea8-0d7b-4158-d7a6-678fd02d30c0"
      },
      "execution_count": 66,
      "outputs": [
        {
          "output_type": "execute_result",
          "data": {
            "text/plain": [
              "TfidfTransformer()"
            ]
          },
          "metadata": {},
          "execution_count": 66
        }
      ]
    },
    {
      "cell_type": "code",
      "source": [
        "#print idf values\n",
        "df_idf = pd.DataFrame(tfidf_transformer.idf_, index = vectorizer.\n",
        "                      get_feature_names_out(), columns = [\"idf_weights\"])\n",
        "\n",
        "#sort ascending\n",
        "df_idf.sort_values(by = ['idf_weights'])\n",
        "\n"
      ],
      "metadata": {
        "colab": {
          "base_uri": "https://localhost:8080/",
          "height": 2271
        },
        "id": "5EMBvBNSVkUs",
        "outputId": "4dff67cb-a805-4c75-c952-b702b1dbded7"
      },
      "execution_count": 67,
      "outputs": [
        {
          "output_type": "execute_result",
          "data": {
            "text/plain": [
              "           idf_weights\n",
              "the           1.117783\n",
              "to            1.251314\n",
              "she           1.405465\n",
              "truss         1.405465\n",
              "in            1.587787\n",
              "...                ...\n",
              "friday        2.504077\n",
              "forced        2.504077\n",
              "finances      2.504077\n",
              "inflation     2.504077\n",
              "led           2.504077\n",
              "\n",
              "[102 rows x 1 columns]"
            ],
            "text/html": [
              "\n",
              "  <div id=\"df-5eac5c90-91d1-432a-8b4f-d0527ae234b0\">\n",
              "    <div class=\"colab-df-container\">\n",
              "      <div>\n",
              "<style scoped>\n",
              "    .dataframe tbody tr th:only-of-type {\n",
              "        vertical-align: middle;\n",
              "    }\n",
              "\n",
              "    .dataframe tbody tr th {\n",
              "        vertical-align: top;\n",
              "    }\n",
              "\n",
              "    .dataframe thead th {\n",
              "        text-align: right;\n",
              "    }\n",
              "</style>\n",
              "<table border=\"1\" class=\"dataframe\">\n",
              "  <thead>\n",
              "    <tr style=\"text-align: right;\">\n",
              "      <th></th>\n",
              "      <th>idf_weights</th>\n",
              "    </tr>\n",
              "  </thead>\n",
              "  <tbody>\n",
              "    <tr>\n",
              "      <th>the</th>\n",
              "      <td>1.117783</td>\n",
              "    </tr>\n",
              "    <tr>\n",
              "      <th>to</th>\n",
              "      <td>1.251314</td>\n",
              "    </tr>\n",
              "    <tr>\n",
              "      <th>she</th>\n",
              "      <td>1.405465</td>\n",
              "    </tr>\n",
              "    <tr>\n",
              "      <th>truss</th>\n",
              "      <td>1.405465</td>\n",
              "    </tr>\n",
              "    <tr>\n",
              "      <th>in</th>\n",
              "      <td>1.587787</td>\n",
              "    </tr>\n",
              "    <tr>\n",
              "      <th>...</th>\n",
              "      <td>...</td>\n",
              "    </tr>\n",
              "    <tr>\n",
              "      <th>friday</th>\n",
              "      <td>2.504077</td>\n",
              "    </tr>\n",
              "    <tr>\n",
              "      <th>forced</th>\n",
              "      <td>2.504077</td>\n",
              "    </tr>\n",
              "    <tr>\n",
              "      <th>finances</th>\n",
              "      <td>2.504077</td>\n",
              "    </tr>\n",
              "    <tr>\n",
              "      <th>inflation</th>\n",
              "      <td>2.504077</td>\n",
              "    </tr>\n",
              "    <tr>\n",
              "      <th>led</th>\n",
              "      <td>2.504077</td>\n",
              "    </tr>\n",
              "  </tbody>\n",
              "</table>\n",
              "<p>102 rows × 1 columns</p>\n",
              "</div>\n",
              "      <button class=\"colab-df-convert\" onclick=\"convertToInteractive('df-5eac5c90-91d1-432a-8b4f-d0527ae234b0')\"\n",
              "              title=\"Convert this dataframe to an interactive table.\"\n",
              "              style=\"display:none;\">\n",
              "        \n",
              "  <svg xmlns=\"http://www.w3.org/2000/svg\" height=\"24px\"viewBox=\"0 0 24 24\"\n",
              "       width=\"24px\">\n",
              "    <path d=\"M0 0h24v24H0V0z\" fill=\"none\"/>\n",
              "    <path d=\"M18.56 5.44l.94 2.06.94-2.06 2.06-.94-2.06-.94-.94-2.06-.94 2.06-2.06.94zm-11 1L8.5 8.5l.94-2.06 2.06-.94-2.06-.94L8.5 2.5l-.94 2.06-2.06.94zm10 10l.94 2.06.94-2.06 2.06-.94-2.06-.94-.94-2.06-.94 2.06-2.06.94z\"/><path d=\"M17.41 7.96l-1.37-1.37c-.4-.4-.92-.59-1.43-.59-.52 0-1.04.2-1.43.59L10.3 9.45l-7.72 7.72c-.78.78-.78 2.05 0 2.83L4 21.41c.39.39.9.59 1.41.59.51 0 1.02-.2 1.41-.59l7.78-7.78 2.81-2.81c.8-.78.8-2.07 0-2.86zM5.41 20L4 18.59l7.72-7.72 1.47 1.35L5.41 20z\"/>\n",
              "  </svg>\n",
              "      </button>\n",
              "      \n",
              "  <style>\n",
              "    .colab-df-container {\n",
              "      display:flex;\n",
              "      flex-wrap:wrap;\n",
              "      gap: 12px;\n",
              "    }\n",
              "\n",
              "    .colab-df-convert {\n",
              "      background-color: #E8F0FE;\n",
              "      border: none;\n",
              "      border-radius: 50%;\n",
              "      cursor: pointer;\n",
              "      display: none;\n",
              "      fill: #1967D2;\n",
              "      height: 32px;\n",
              "      padding: 0 0 0 0;\n",
              "      width: 32px;\n",
              "    }\n",
              "\n",
              "    .colab-df-convert:hover {\n",
              "      background-color: #E2EBFA;\n",
              "      box-shadow: 0px 1px 2px rgba(60, 64, 67, 0.3), 0px 1px 3px 1px rgba(60, 64, 67, 0.15);\n",
              "      fill: #174EA6;\n",
              "    }\n",
              "\n",
              "    [theme=dark] .colab-df-convert {\n",
              "      background-color: #3B4455;\n",
              "      fill: #D2E3FC;\n",
              "    }\n",
              "\n",
              "    [theme=dark] .colab-df-convert:hover {\n",
              "      background-color: #434B5C;\n",
              "      box-shadow: 0px 1px 3px 1px rgba(0, 0, 0, 0.15);\n",
              "      filter: drop-shadow(0px 1px 2px rgba(0, 0, 0, 0.3));\n",
              "      fill: #FFFFFF;\n",
              "    }\n",
              "  </style>\n",
              "\n",
              "      <script>\n",
              "        const buttonEl =\n",
              "          document.querySelector('#df-5eac5c90-91d1-432a-8b4f-d0527ae234b0 button.colab-df-convert');\n",
              "        buttonEl.style.display =\n",
              "          google.colab.kernel.accessAllowed ? 'block' : 'none';\n",
              "\n",
              "        async function convertToInteractive(key) {\n",
              "          const element = document.querySelector('#df-5eac5c90-91d1-432a-8b4f-d0527ae234b0');\n",
              "          const dataTable =\n",
              "            await google.colab.kernel.invokeFunction('convertToInteractive',\n",
              "                                                     [key], {});\n",
              "          if (!dataTable) return;\n",
              "\n",
              "          const docLinkHtml = 'Like what you see? Visit the ' +\n",
              "            '<a target=\"_blank\" href=https://colab.research.google.com/notebooks/data_table.ipynb>data table notebook</a>'\n",
              "            + ' to learn more about interactive tables.';\n",
              "          element.innerHTML = '';\n",
              "          dataTable['output_type'] = 'display_data';\n",
              "          await google.colab.output.renderOutput(dataTable, element);\n",
              "          const docLink = document.createElement('div');\n",
              "          docLink.innerHTML = docLinkHtml;\n",
              "          element.appendChild(docLink);\n",
              "        }\n",
              "      </script>\n",
              "    </div>\n",
              "  </div>\n",
              "  "
            ]
          },
          "metadata": {},
          "execution_count": 67
        }
      ]
    },
    {
      "cell_type": "markdown",
      "source": [
        "Compute the TFIDF score for your documents"
      ],
      "metadata": {
        "id": "dXoqPKkwXYyD"
      }
    },
    {
      "cell_type": "code",
      "source": [
        "#count matrix\n",
        "count_vector = vectorizer.transform(corpus)\n",
        "\n",
        "#tf-idf scores\n",
        "tf_idf_vector = tfidf_transformer.transform(count_vector)"
      ],
      "metadata": {
        "id": "EQ9ucElAW9lY"
      },
      "execution_count": 68,
      "outputs": []
    },
    {
      "cell_type": "code",
      "source": [
        "feature_names = vectorizer.get_feature_names_out()\n",
        "\n",
        "#get tfidf vector for first document\n",
        "first_document_vector = tf_idf_vector[0]\n",
        "\n",
        "#print the scores\n",
        "df = pd.DataFrame(first_document_vector.T.todense(), index = feature_names, \n",
        "                  columns = [\"tfidf\"])\n",
        "df.sort_values(by = [\"tfidf\"], ascending = False)"
      ],
      "metadata": {
        "colab": {
          "base_uri": "https://localhost:8080/",
          "height": 2271
        },
        "id": "qX2bgqLtXwFh",
        "outputId": "dcd220ae-dfad-49d6-bb4b-1babc9cbdf5e"
      },
      "execution_count": 69,
      "outputs": [
        {
          "output_type": "execute_result",
          "data": {
            "text/plain": [
              "               tfidf\n",
              "post        0.246716\n",
              "apologized  0.246716\n",
              "step        0.246716\n",
              "down        0.246716\n",
              "british     0.246716\n",
              "...              ...\n",
              "hunt        0.000000\n",
              "had         0.000000\n",
              "growth      0.000000\n",
              "general     0.000000\n",
              "with        0.000000\n",
              "\n",
              "[102 rows x 1 columns]"
            ],
            "text/html": [
              "\n",
              "  <div id=\"df-97dff024-7025-4dee-8f1a-f3a356015937\">\n",
              "    <div class=\"colab-df-container\">\n",
              "      <div>\n",
              "<style scoped>\n",
              "    .dataframe tbody tr th:only-of-type {\n",
              "        vertical-align: middle;\n",
              "    }\n",
              "\n",
              "    .dataframe tbody tr th {\n",
              "        vertical-align: top;\n",
              "    }\n",
              "\n",
              "    .dataframe thead th {\n",
              "        text-align: right;\n",
              "    }\n",
              "</style>\n",
              "<table border=\"1\" class=\"dataframe\">\n",
              "  <thead>\n",
              "    <tr style=\"text-align: right;\">\n",
              "      <th></th>\n",
              "      <th>tfidf</th>\n",
              "    </tr>\n",
              "  </thead>\n",
              "  <tbody>\n",
              "    <tr>\n",
              "      <th>post</th>\n",
              "      <td>0.246716</td>\n",
              "    </tr>\n",
              "    <tr>\n",
              "      <th>apologized</th>\n",
              "      <td>0.246716</td>\n",
              "    </tr>\n",
              "    <tr>\n",
              "      <th>step</th>\n",
              "      <td>0.246716</td>\n",
              "    </tr>\n",
              "    <tr>\n",
              "      <th>down</th>\n",
              "      <td>0.246716</td>\n",
              "    </tr>\n",
              "    <tr>\n",
              "      <th>british</th>\n",
              "      <td>0.246716</td>\n",
              "    </tr>\n",
              "    <tr>\n",
              "      <th>...</th>\n",
              "      <td>...</td>\n",
              "    </tr>\n",
              "    <tr>\n",
              "      <th>hunt</th>\n",
              "      <td>0.000000</td>\n",
              "    </tr>\n",
              "    <tr>\n",
              "      <th>had</th>\n",
              "      <td>0.000000</td>\n",
              "    </tr>\n",
              "    <tr>\n",
              "      <th>growth</th>\n",
              "      <td>0.000000</td>\n",
              "    </tr>\n",
              "    <tr>\n",
              "      <th>general</th>\n",
              "      <td>0.000000</td>\n",
              "    </tr>\n",
              "    <tr>\n",
              "      <th>with</th>\n",
              "      <td>0.000000</td>\n",
              "    </tr>\n",
              "  </tbody>\n",
              "</table>\n",
              "<p>102 rows × 1 columns</p>\n",
              "</div>\n",
              "      <button class=\"colab-df-convert\" onclick=\"convertToInteractive('df-97dff024-7025-4dee-8f1a-f3a356015937')\"\n",
              "              title=\"Convert this dataframe to an interactive table.\"\n",
              "              style=\"display:none;\">\n",
              "        \n",
              "  <svg xmlns=\"http://www.w3.org/2000/svg\" height=\"24px\"viewBox=\"0 0 24 24\"\n",
              "       width=\"24px\">\n",
              "    <path d=\"M0 0h24v24H0V0z\" fill=\"none\"/>\n",
              "    <path d=\"M18.56 5.44l.94 2.06.94-2.06 2.06-.94-2.06-.94-.94-2.06-.94 2.06-2.06.94zm-11 1L8.5 8.5l.94-2.06 2.06-.94-2.06-.94L8.5 2.5l-.94 2.06-2.06.94zm10 10l.94 2.06.94-2.06 2.06-.94-2.06-.94-.94-2.06-.94 2.06-2.06.94z\"/><path d=\"M17.41 7.96l-1.37-1.37c-.4-.4-.92-.59-1.43-.59-.52 0-1.04.2-1.43.59L10.3 9.45l-7.72 7.72c-.78.78-.78 2.05 0 2.83L4 21.41c.39.39.9.59 1.41.59.51 0 1.02-.2 1.41-.59l7.78-7.78 2.81-2.81c.8-.78.8-2.07 0-2.86zM5.41 20L4 18.59l7.72-7.72 1.47 1.35L5.41 20z\"/>\n",
              "  </svg>\n",
              "      </button>\n",
              "      \n",
              "  <style>\n",
              "    .colab-df-container {\n",
              "      display:flex;\n",
              "      flex-wrap:wrap;\n",
              "      gap: 12px;\n",
              "    }\n",
              "\n",
              "    .colab-df-convert {\n",
              "      background-color: #E8F0FE;\n",
              "      border: none;\n",
              "      border-radius: 50%;\n",
              "      cursor: pointer;\n",
              "      display: none;\n",
              "      fill: #1967D2;\n",
              "      height: 32px;\n",
              "      padding: 0 0 0 0;\n",
              "      width: 32px;\n",
              "    }\n",
              "\n",
              "    .colab-df-convert:hover {\n",
              "      background-color: #E2EBFA;\n",
              "      box-shadow: 0px 1px 2px rgba(60, 64, 67, 0.3), 0px 1px 3px 1px rgba(60, 64, 67, 0.15);\n",
              "      fill: #174EA6;\n",
              "    }\n",
              "\n",
              "    [theme=dark] .colab-df-convert {\n",
              "      background-color: #3B4455;\n",
              "      fill: #D2E3FC;\n",
              "    }\n",
              "\n",
              "    [theme=dark] .colab-df-convert:hover {\n",
              "      background-color: #434B5C;\n",
              "      box-shadow: 0px 1px 3px 1px rgba(0, 0, 0, 0.15);\n",
              "      filter: drop-shadow(0px 1px 2px rgba(0, 0, 0, 0.3));\n",
              "      fill: #FFFFFF;\n",
              "    }\n",
              "  </style>\n",
              "\n",
              "      <script>\n",
              "        const buttonEl =\n",
              "          document.querySelector('#df-97dff024-7025-4dee-8f1a-f3a356015937 button.colab-df-convert');\n",
              "        buttonEl.style.display =\n",
              "          google.colab.kernel.accessAllowed ? 'block' : 'none';\n",
              "\n",
              "        async function convertToInteractive(key) {\n",
              "          const element = document.querySelector('#df-97dff024-7025-4dee-8f1a-f3a356015937');\n",
              "          const dataTable =\n",
              "            await google.colab.kernel.invokeFunction('convertToInteractive',\n",
              "                                                     [key], {});\n",
              "          if (!dataTable) return;\n",
              "\n",
              "          const docLinkHtml = 'Like what you see? Visit the ' +\n",
              "            '<a target=\"_blank\" href=https://colab.research.google.com/notebooks/data_table.ipynb>data table notebook</a>'\n",
              "            + ' to learn more about interactive tables.';\n",
              "          element.innerHTML = '';\n",
              "          dataTable['output_type'] = 'display_data';\n",
              "          await google.colab.output.renderOutput(dataTable, element);\n",
              "          const docLink = document.createElement('div');\n",
              "          docLink.innerHTML = docLinkHtml;\n",
              "          element.appendChild(docLink);\n",
              "        }\n",
              "      </script>\n",
              "    </div>\n",
              "  </div>\n",
              "  "
            ]
          },
          "metadata": {},
          "execution_count": 69
        }
      ]
    },
    {
      "cell_type": "markdown",
      "source": [
        "TF-IDF Vectorizer"
      ],
      "metadata": {
        "id": "a3l0kBn7fs82"
      }
    },
    {
      "cell_type": "code",
      "source": [
        "from sklearn.feature_extraction.text import TfidfVectorizer\n",
        "\n",
        "#settings that you use for count vectorizer will go here\n",
        "tfidf_vectorizer =TfidfVectorizer(use_idf = True)\n",
        "\n",
        "# just send in all your docs here\n",
        "tfidf_vectorizer_vectors = tfidf_vectorizer.fit_transform(corpus)"
      ],
      "metadata": {
        "id": "lKEOuRlbYaaf"
      },
      "execution_count": 70,
      "outputs": []
    },
    {
      "cell_type": "code",
      "source": [
        "print(tfidf_vectorizer_vectors)"
      ],
      "metadata": {
        "colab": {
          "base_uri": "https://localhost:8080/"
        },
        "id": "W8prP1LWgdMY",
        "outputId": "de60627f-16fe-49c1-d259-33577c2357ce"
      },
      "execution_count": 71,
      "outputs": [
        {
          "output_type": "stream",
          "name": "stdout",
          "text": [
            "  (0, 69)\t0.2467155195715407\n",
            "  (0, 31)\t0.2467155195715407\n",
            "  (0, 21)\t0.2467155195715407\n",
            "  (0, 86)\t0.2467155195715407\n",
            "  (0, 92)\t0.12328640069916796\n",
            "  (0, 19)\t0.2467155195715407\n",
            "  (0, 12)\t0.20676686025940436\n",
            "  (0, 68)\t0.20676686025940436\n",
            "  (0, 22)\t0.20676686025940436\n",
            "  (0, 36)\t0.17842283540309112\n",
            "  (0, 38)\t0.15643750169399784\n",
            "  (0, 53)\t0.20676686025940436\n",
            "  (0, 57)\t0.20676686025940436\n",
            "  (0, 90)\t0.22026030246928313\n",
            "  (0, 28)\t0.20676686025940436\n",
            "  (0, 6)\t0.2467155195715407\n",
            "  (0, 35)\t0.20676686025940436\n",
            "  (0, 94)\t0.13847417609095475\n",
            "  (0, 52)\t0.2467155195715407\n",
            "  (0, 56)\t0.17842283540309112\n",
            "  (0, 71)\t0.20676686025940436\n",
            "  (0, 11)\t0.2467155195715407\n",
            "  (1, 40)\t0.2557636535488009\n",
            "  (1, 64)\t0.18496637884183975\n",
            "  (1, 51)\t0.2557636535488009\n",
            "  :\t:\n",
            "  (6, 26)\t0.24248275074374334\n",
            "  (6, 75)\t0.24248275074374334\n",
            "  (6, 73)\t0.24248275074374334\n",
            "  (6, 79)\t0.2032194696361981\n",
            "  (6, 101)\t0.17536172835488847\n",
            "  (6, 13)\t0.2032194696361981\n",
            "  (6, 80)\t0.13609844724734324\n",
            "  (6, 92)\t0.24234248111141574\n",
            "  (6, 22)\t0.2032194696361981\n",
            "  (6, 36)\t0.17536172835488847\n",
            "  (6, 35)\t0.2032194696361981\n",
            "  (6, 94)\t0.13609844724734324\n",
            "  (6, 56)\t0.17536172835488847\n",
            "  (7, 24)\t0.31701978503892986\n",
            "  (7, 32)\t0.31701978503892986\n",
            "  (7, 63)\t0.31701978503892986\n",
            "  (7, 43)\t0.31701978503892986\n",
            "  (7, 66)\t0.31701978503892986\n",
            "  (7, 49)\t0.31701978503892986\n",
            "  (7, 100)\t0.31701978503892986\n",
            "  (7, 41)\t0.31701978503892986\n",
            "  (7, 89)\t0.22926635918062885\n",
            "  (7, 80)\t0.17793389574370852\n",
            "  (7, 90)\t0.2830258666446557\n",
            "  (7, 94)\t0.17793389574370852\n"
          ]
        }
      ]
    },
    {
      "cell_type": "code",
      "source": [
        "print(tfidf_vectorizer.get_feature_names_out())"
      ],
      "metadata": {
        "colab": {
          "base_uri": "https://localhost:8080/"
        },
        "id": "GzA7zZGTgiGx",
        "outputId": "76845da1-02d5-4651-b473-6cfcf24a9d3b"
      },
      "execution_count": 72,
      "outputs": [
        {
          "output_type": "stream",
          "name": "stdout",
          "text": [
            "['accept' 'against' 'aggravate' 'amid' 'an' 'and' 'apologized' 'appointed'\n",
            " 'attempted' 'bbc' 'became' 'british' 'but' 'chancellor' 'concerns'\n",
            " 'confusion' 'could' 'country' 'cuts' 'declined' 'dollar' 'down'\n",
            " 'economic' 'economy' 'election' 'exchequer' 'finance' 'finances' 'for'\n",
            " 'forced' 'friday' 'from' 'general' 'growth' 'had' 'has' 'her' 'hunt' 'in'\n",
            " 'including' 'inflation' 'insisted' 'interview' 'into' 'jeremy' 'just'\n",
            " 'kwarteng' 'kwasi' 'last' 'lead' 'led' 'levels' 'liz' 'made' 'major'\n",
            " 'market' 'minister' 'mistakes' 'monday' 'month' 'most' 'moves' 'new'\n",
            " 'next' 'of' 'on' 'party' 'plunge' 'policies' 'post' 'pound' 'prime'\n",
            " 'record' 'referring' 'replaced' 'replacing' 'responsibility' 'restore'\n",
            " 'reverse' 'said' 'she' 'signature' 'sorry' 'speaking' 'stability' 'steer'\n",
            " 'step' 'strategy' 'tax' 'that' 'the' 'through' 'to' 'toward' 'truss'\n",
            " 'value' 'wants' 'was' 'were' 'who' 'will' 'with']\n"
          ]
        }
      ]
    },
    {
      "cell_type": "code",
      "source": [
        "# get the first vector out(for the first document)\n",
        "first_vector_tfidfvectorizer = tfidf_vectorizer_vectors[0]\n",
        "\n",
        "#place tf-idf values in a pandas data frame\n",
        "df = pd.DataFrame(first_vector_tfidfvectorizer.T.todense(),\n",
        "                  index = tfidf_vectorizer.get_feature_names_out(), columns = [\"tfidf\"])\n",
        "df.sort_values(by= [\"tfidf\"], ascending = False)\n"
      ],
      "metadata": {
        "colab": {
          "base_uri": "https://localhost:8080/",
          "height": 656
        },
        "id": "YvMStM1Ygwmh",
        "outputId": "ecc281a4-1c6a-4c96-8816-7f651c4ad01c"
      },
      "execution_count": 77,
      "outputs": [
        {
          "output_type": "execute_result",
          "data": {
            "text/plain": [
              "               tfidf\n",
              "post        0.246716\n",
              "apologized  0.246716\n",
              "step        0.246716\n",
              "down        0.246716\n",
              "british     0.246716\n",
              "...              ...\n",
              "hunt        0.000000\n",
              "had         0.000000\n",
              "growth      0.000000\n",
              "general     0.000000\n",
              "with        0.000000\n",
              "\n",
              "[102 rows x 1 columns]"
            ],
            "text/html": [
              "\n",
              "  <div id=\"df-29233c60-e180-4504-b87f-74816bb97739\">\n",
              "    <div class=\"colab-df-container\">\n",
              "      <div>\n",
              "<style scoped>\n",
              "    .dataframe tbody tr th:only-of-type {\n",
              "        vertical-align: middle;\n",
              "    }\n",
              "\n",
              "    .dataframe tbody tr th {\n",
              "        vertical-align: top;\n",
              "    }\n",
              "\n",
              "    .dataframe thead th {\n",
              "        text-align: right;\n",
              "    }\n",
              "</style>\n",
              "<table border=\"1\" class=\"dataframe\">\n",
              "  <thead>\n",
              "    <tr style=\"text-align: right;\">\n",
              "      <th></th>\n",
              "      <th>tfidf</th>\n",
              "    </tr>\n",
              "  </thead>\n",
              "  <tbody>\n",
              "    <tr>\n",
              "      <th>post</th>\n",
              "      <td>0.246716</td>\n",
              "    </tr>\n",
              "    <tr>\n",
              "      <th>apologized</th>\n",
              "      <td>0.246716</td>\n",
              "    </tr>\n",
              "    <tr>\n",
              "      <th>step</th>\n",
              "      <td>0.246716</td>\n",
              "    </tr>\n",
              "    <tr>\n",
              "      <th>down</th>\n",
              "      <td>0.246716</td>\n",
              "    </tr>\n",
              "    <tr>\n",
              "      <th>british</th>\n",
              "      <td>0.246716</td>\n",
              "    </tr>\n",
              "    <tr>\n",
              "      <th>...</th>\n",
              "      <td>...</td>\n",
              "    </tr>\n",
              "    <tr>\n",
              "      <th>hunt</th>\n",
              "      <td>0.000000</td>\n",
              "    </tr>\n",
              "    <tr>\n",
              "      <th>had</th>\n",
              "      <td>0.000000</td>\n",
              "    </tr>\n",
              "    <tr>\n",
              "      <th>growth</th>\n",
              "      <td>0.000000</td>\n",
              "    </tr>\n",
              "    <tr>\n",
              "      <th>general</th>\n",
              "      <td>0.000000</td>\n",
              "    </tr>\n",
              "    <tr>\n",
              "      <th>with</th>\n",
              "      <td>0.000000</td>\n",
              "    </tr>\n",
              "  </tbody>\n",
              "</table>\n",
              "<p>102 rows × 1 columns</p>\n",
              "</div>\n",
              "      <button class=\"colab-df-convert\" onclick=\"convertToInteractive('df-29233c60-e180-4504-b87f-74816bb97739')\"\n",
              "              title=\"Convert this dataframe to an interactive table.\"\n",
              "              style=\"display:none;\">\n",
              "        \n",
              "  <svg xmlns=\"http://www.w3.org/2000/svg\" height=\"24px\"viewBox=\"0 0 24 24\"\n",
              "       width=\"24px\">\n",
              "    <path d=\"M0 0h24v24H0V0z\" fill=\"none\"/>\n",
              "    <path d=\"M18.56 5.44l.94 2.06.94-2.06 2.06-.94-2.06-.94-.94-2.06-.94 2.06-2.06.94zm-11 1L8.5 8.5l.94-2.06 2.06-.94-2.06-.94L8.5 2.5l-.94 2.06-2.06.94zm10 10l.94 2.06.94-2.06 2.06-.94-2.06-.94-.94-2.06-.94 2.06-2.06.94z\"/><path d=\"M17.41 7.96l-1.37-1.37c-.4-.4-.92-.59-1.43-.59-.52 0-1.04.2-1.43.59L10.3 9.45l-7.72 7.72c-.78.78-.78 2.05 0 2.83L4 21.41c.39.39.9.59 1.41.59.51 0 1.02-.2 1.41-.59l7.78-7.78 2.81-2.81c.8-.78.8-2.07 0-2.86zM5.41 20L4 18.59l7.72-7.72 1.47 1.35L5.41 20z\"/>\n",
              "  </svg>\n",
              "      </button>\n",
              "      \n",
              "  <style>\n",
              "    .colab-df-container {\n",
              "      display:flex;\n",
              "      flex-wrap:wrap;\n",
              "      gap: 12px;\n",
              "    }\n",
              "\n",
              "    .colab-df-convert {\n",
              "      background-color: #E8F0FE;\n",
              "      border: none;\n",
              "      border-radius: 50%;\n",
              "      cursor: pointer;\n",
              "      display: none;\n",
              "      fill: #1967D2;\n",
              "      height: 32px;\n",
              "      padding: 0 0 0 0;\n",
              "      width: 32px;\n",
              "    }\n",
              "\n",
              "    .colab-df-convert:hover {\n",
              "      background-color: #E2EBFA;\n",
              "      box-shadow: 0px 1px 2px rgba(60, 64, 67, 0.3), 0px 1px 3px 1px rgba(60, 64, 67, 0.15);\n",
              "      fill: #174EA6;\n",
              "    }\n",
              "\n",
              "    [theme=dark] .colab-df-convert {\n",
              "      background-color: #3B4455;\n",
              "      fill: #D2E3FC;\n",
              "    }\n",
              "\n",
              "    [theme=dark] .colab-df-convert:hover {\n",
              "      background-color: #434B5C;\n",
              "      box-shadow: 0px 1px 3px 1px rgba(0, 0, 0, 0.15);\n",
              "      filter: drop-shadow(0px 1px 2px rgba(0, 0, 0, 0.3));\n",
              "      fill: #FFFFFF;\n",
              "    }\n",
              "  </style>\n",
              "\n",
              "      <script>\n",
              "        const buttonEl =\n",
              "          document.querySelector('#df-29233c60-e180-4504-b87f-74816bb97739 button.colab-df-convert');\n",
              "        buttonEl.style.display =\n",
              "          google.colab.kernel.accessAllowed ? 'block' : 'none';\n",
              "\n",
              "        async function convertToInteractive(key) {\n",
              "          const element = document.querySelector('#df-29233c60-e180-4504-b87f-74816bb97739');\n",
              "          const dataTable =\n",
              "            await google.colab.kernel.invokeFunction('convertToInteractive',\n",
              "                                                     [key], {});\n",
              "          if (!dataTable) return;\n",
              "\n",
              "          const docLinkHtml = 'Like what you see? Visit the ' +\n",
              "            '<a target=\"_blank\" href=https://colab.research.google.com/notebooks/data_table.ipynb>data table notebook</a>'\n",
              "            + ' to learn more about interactive tables.';\n",
              "          element.innerHTML = '';\n",
              "          dataTable['output_type'] = 'display_data';\n",
              "          await google.colab.output.renderOutput(dataTable, element);\n",
              "          const docLink = document.createElement('div');\n",
              "          docLink.innerHTML = docLinkHtml;\n",
              "          element.appendChild(docLink);\n",
              "        }\n",
              "      </script>\n",
              "    </div>\n",
              "  </div>\n",
              "  "
            ]
          },
          "metadata": {},
          "execution_count": 77
        }
      ]
    },
    {
      "cell_type": "markdown",
      "source": [
        "Cara 2 TF-IDF Vectorizer"
      ],
      "metadata": {
        "id": "EfVKLrHRhuX-"
      }
    },
    {
      "cell_type": "code",
      "source": [
        "#tfidf_vectorizer = TfidfVectorizer (use_idf = True)\n",
        "\n",
        "#just send in all your docs here\n",
        "fitted_vectorizer = tfidf_vectorizer.fit(corpus)\n",
        "tfidf_vectorizer_vectors2 = fitted_vectorizer.transform(corpus)"
      ],
      "metadata": {
        "id": "0bNnuLulhn4Z"
      },
      "execution_count": 74,
      "outputs": []
    },
    {
      "cell_type": "code",
      "source": [
        "#get the first vector out (for the first document)\n",
        "first_vector_tfidfvectorizer2 = tfidf_vectorizer_vectors2[0]\n",
        "\n",
        "#place tf-idf values in a pandas data frame\n",
        "df = pd.DataFrame(first_vector_tfidfvectorizer2.T.todense(),\n",
        "                  index= tfidf_vectorizer.get_feature_names_out(), columns = [\"tfidf2\"])\n",
        "df.sort_values(by = [\"tfidf2\"], ascending = False)\n"
      ],
      "metadata": {
        "colab": {
          "base_uri": "https://localhost:8080/",
          "height": 2271
        },
        "id": "eKLQrHuBht3q",
        "outputId": "6e348c1e-4f6f-4b8c-8953-5cf03a311e6d"
      },
      "execution_count": 76,
      "outputs": [
        {
          "output_type": "execute_result",
          "data": {
            "text/plain": [
              "              tfidf2\n",
              "post        0.246716\n",
              "apologized  0.246716\n",
              "step        0.246716\n",
              "down        0.246716\n",
              "british     0.246716\n",
              "...              ...\n",
              "hunt        0.000000\n",
              "had         0.000000\n",
              "growth      0.000000\n",
              "general     0.000000\n",
              "with        0.000000\n",
              "\n",
              "[102 rows x 1 columns]"
            ],
            "text/html": [
              "\n",
              "  <div id=\"df-a21b53ff-79bc-419b-bbc4-68f0c95a32b4\">\n",
              "    <div class=\"colab-df-container\">\n",
              "      <div>\n",
              "<style scoped>\n",
              "    .dataframe tbody tr th:only-of-type {\n",
              "        vertical-align: middle;\n",
              "    }\n",
              "\n",
              "    .dataframe tbody tr th {\n",
              "        vertical-align: top;\n",
              "    }\n",
              "\n",
              "    .dataframe thead th {\n",
              "        text-align: right;\n",
              "    }\n",
              "</style>\n",
              "<table border=\"1\" class=\"dataframe\">\n",
              "  <thead>\n",
              "    <tr style=\"text-align: right;\">\n",
              "      <th></th>\n",
              "      <th>tfidf2</th>\n",
              "    </tr>\n",
              "  </thead>\n",
              "  <tbody>\n",
              "    <tr>\n",
              "      <th>post</th>\n",
              "      <td>0.246716</td>\n",
              "    </tr>\n",
              "    <tr>\n",
              "      <th>apologized</th>\n",
              "      <td>0.246716</td>\n",
              "    </tr>\n",
              "    <tr>\n",
              "      <th>step</th>\n",
              "      <td>0.246716</td>\n",
              "    </tr>\n",
              "    <tr>\n",
              "      <th>down</th>\n",
              "      <td>0.246716</td>\n",
              "    </tr>\n",
              "    <tr>\n",
              "      <th>british</th>\n",
              "      <td>0.246716</td>\n",
              "    </tr>\n",
              "    <tr>\n",
              "      <th>...</th>\n",
              "      <td>...</td>\n",
              "    </tr>\n",
              "    <tr>\n",
              "      <th>hunt</th>\n",
              "      <td>0.000000</td>\n",
              "    </tr>\n",
              "    <tr>\n",
              "      <th>had</th>\n",
              "      <td>0.000000</td>\n",
              "    </tr>\n",
              "    <tr>\n",
              "      <th>growth</th>\n",
              "      <td>0.000000</td>\n",
              "    </tr>\n",
              "    <tr>\n",
              "      <th>general</th>\n",
              "      <td>0.000000</td>\n",
              "    </tr>\n",
              "    <tr>\n",
              "      <th>with</th>\n",
              "      <td>0.000000</td>\n",
              "    </tr>\n",
              "  </tbody>\n",
              "</table>\n",
              "<p>102 rows × 1 columns</p>\n",
              "</div>\n",
              "      <button class=\"colab-df-convert\" onclick=\"convertToInteractive('df-a21b53ff-79bc-419b-bbc4-68f0c95a32b4')\"\n",
              "              title=\"Convert this dataframe to an interactive table.\"\n",
              "              style=\"display:none;\">\n",
              "        \n",
              "  <svg xmlns=\"http://www.w3.org/2000/svg\" height=\"24px\"viewBox=\"0 0 24 24\"\n",
              "       width=\"24px\">\n",
              "    <path d=\"M0 0h24v24H0V0z\" fill=\"none\"/>\n",
              "    <path d=\"M18.56 5.44l.94 2.06.94-2.06 2.06-.94-2.06-.94-.94-2.06-.94 2.06-2.06.94zm-11 1L8.5 8.5l.94-2.06 2.06-.94-2.06-.94L8.5 2.5l-.94 2.06-2.06.94zm10 10l.94 2.06.94-2.06 2.06-.94-2.06-.94-.94-2.06-.94 2.06-2.06.94z\"/><path d=\"M17.41 7.96l-1.37-1.37c-.4-.4-.92-.59-1.43-.59-.52 0-1.04.2-1.43.59L10.3 9.45l-7.72 7.72c-.78.78-.78 2.05 0 2.83L4 21.41c.39.39.9.59 1.41.59.51 0 1.02-.2 1.41-.59l7.78-7.78 2.81-2.81c.8-.78.8-2.07 0-2.86zM5.41 20L4 18.59l7.72-7.72 1.47 1.35L5.41 20z\"/>\n",
              "  </svg>\n",
              "      </button>\n",
              "      \n",
              "  <style>\n",
              "    .colab-df-container {\n",
              "      display:flex;\n",
              "      flex-wrap:wrap;\n",
              "      gap: 12px;\n",
              "    }\n",
              "\n",
              "    .colab-df-convert {\n",
              "      background-color: #E8F0FE;\n",
              "      border: none;\n",
              "      border-radius: 50%;\n",
              "      cursor: pointer;\n",
              "      display: none;\n",
              "      fill: #1967D2;\n",
              "      height: 32px;\n",
              "      padding: 0 0 0 0;\n",
              "      width: 32px;\n",
              "    }\n",
              "\n",
              "    .colab-df-convert:hover {\n",
              "      background-color: #E2EBFA;\n",
              "      box-shadow: 0px 1px 2px rgba(60, 64, 67, 0.3), 0px 1px 3px 1px rgba(60, 64, 67, 0.15);\n",
              "      fill: #174EA6;\n",
              "    }\n",
              "\n",
              "    [theme=dark] .colab-df-convert {\n",
              "      background-color: #3B4455;\n",
              "      fill: #D2E3FC;\n",
              "    }\n",
              "\n",
              "    [theme=dark] .colab-df-convert:hover {\n",
              "      background-color: #434B5C;\n",
              "      box-shadow: 0px 1px 3px 1px rgba(0, 0, 0, 0.15);\n",
              "      filter: drop-shadow(0px 1px 2px rgba(0, 0, 0, 0.3));\n",
              "      fill: #FFFFFF;\n",
              "    }\n",
              "  </style>\n",
              "\n",
              "      <script>\n",
              "        const buttonEl =\n",
              "          document.querySelector('#df-a21b53ff-79bc-419b-bbc4-68f0c95a32b4 button.colab-df-convert');\n",
              "        buttonEl.style.display =\n",
              "          google.colab.kernel.accessAllowed ? 'block' : 'none';\n",
              "\n",
              "        async function convertToInteractive(key) {\n",
              "          const element = document.querySelector('#df-a21b53ff-79bc-419b-bbc4-68f0c95a32b4');\n",
              "          const dataTable =\n",
              "            await google.colab.kernel.invokeFunction('convertToInteractive',\n",
              "                                                     [key], {});\n",
              "          if (!dataTable) return;\n",
              "\n",
              "          const docLinkHtml = 'Like what you see? Visit the ' +\n",
              "            '<a target=\"_blank\" href=https://colab.research.google.com/notebooks/data_table.ipynb>data table notebook</a>'\n",
              "            + ' to learn more about interactive tables.';\n",
              "          element.innerHTML = '';\n",
              "          dataTable['output_type'] = 'display_data';\n",
              "          await google.colab.output.renderOutput(dataTable, element);\n",
              "          const docLink = document.createElement('div');\n",
              "          docLink.innerHTML = docLinkHtml;\n",
              "          element.appendChild(docLink);\n",
              "        }\n",
              "      </script>\n",
              "    </div>\n",
              "  </div>\n",
              "  "
            ]
          },
          "metadata": {},
          "execution_count": 76
        }
      ]
    },
    {
      "cell_type": "code",
      "source": [],
      "metadata": {
        "id": "Ia7J235Cn3Oo"
      },
      "execution_count": null,
      "outputs": []
    }
  ]
}