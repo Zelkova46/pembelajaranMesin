{
 "cells": [
  {
   "cell_type": "markdown",
   "metadata": {},
   "source": [
    "## String to List"
   ]
  },
  {
   "cell_type": "code",
   "execution_count": 36,
   "metadata": {},
   "outputs": [],
   "source": [
    "hall = 11.25\n",
    "kit = 18.0\n",
    "liv = 20.0\n",
    "bed = 10.75\n",
    "bath = 9.50"
   ]
  },
  {
   "cell_type": "code",
   "execution_count": 37,
   "metadata": {},
   "outputs": [],
   "source": [
    "areas = [hall , kit , liv, bed , bath]"
   ]
  },
  {
   "cell_type": "code",
   "execution_count": 38,
   "metadata": {},
   "outputs": [
    {
     "name": "stdout",
     "output_type": "stream",
     "text": [
      "[11.25, 18.0, 20.0, 10.75, 9.5]\n"
     ]
    }
   ],
   "source": [
    "print (areas)"
   ]
  },
  {
   "cell_type": "code",
   "execution_count": 39,
   "metadata": {},
   "outputs": [
    {
     "name": "stdout",
     "output_type": "stream",
     "text": [
      "9.5\n"
     ]
    }
   ],
   "source": [
    "print (areas[-1])"
   ]
  },
  {
   "cell_type": "code",
   "execution_count": 40,
   "metadata": {},
   "outputs": [
    {
     "name": "stdout",
     "output_type": "stream",
     "text": [
      "[11.25, 18.0, 20.0]\n"
     ]
    }
   ],
   "source": [
    "print(areas[:3])"
   ]
  },
  {
   "cell_type": "markdown",
   "metadata": {},
   "source": [
    "## Belajar split kalimat kedalam list"
   ]
  },
  {
   "cell_type": "markdown",
   "metadata": {},
   "source": [
    "### 1. Split kalimat dengan nltk"
   ]
  },
  {
   "cell_type": "code",
   "execution_count": 41,
   "metadata": {},
   "outputs": [],
   "source": [
    "kalimat = \"Saya akan pergi ke kampus\""
   ]
  },
  {
   "cell_type": "code",
   "execution_count": 42,
   "metadata": {},
   "outputs": [],
   "source": [
    "from nltk.tokenize import word_tokenize"
   ]
  },
  {
   "cell_type": "code",
   "execution_count": 43,
   "metadata": {},
   "outputs": [
    {
     "name": "stdout",
     "output_type": "stream",
     "text": [
      "['Saya', 'akan', 'pergi', 'ke', 'kampus']\n"
     ]
    }
   ],
   "source": [
    "print (word_tokenize(kalimat))"
   ]
  },
  {
   "cell_type": "code",
   "execution_count": 44,
   "metadata": {},
   "outputs": [],
   "source": [
    "kalimat_pecah = word_tokenize(kalimat)"
   ]
  },
  {
   "cell_type": "code",
   "execution_count": 45,
   "metadata": {},
   "outputs": [
    {
     "name": "stdout",
     "output_type": "stream",
     "text": [
      "['Saya', 'akan', 'pergi', 'ke', 'kampus']\n"
     ]
    }
   ],
   "source": [
    "print(kalimat_pecah)"
   ]
  },
  {
   "cell_type": "code",
   "execution_count": 46,
   "metadata": {},
   "outputs": [
    {
     "name": "stdout",
     "output_type": "stream",
     "text": [
      "['Saya', 'akan', 'pergi']\n"
     ]
    }
   ],
   "source": [
    "print (kalimat_pecah[:3])"
   ]
  },
  {
   "cell_type": "markdown",
   "metadata": {},
   "source": [
    "### 2. Split kalimat dengan function str.split"
   ]
  },
  {
   "cell_type": "code",
   "execution_count": 47,
   "metadata": {},
   "outputs": [
    {
     "name": "stdout",
     "output_type": "stream",
     "text": [
      "['Saya', 'akan', 'pergi', 'ke', 'kampus']\n"
     ]
    }
   ],
   "source": [
    "print(str.split(kalimat))"
   ]
  },
  {
   "cell_type": "code",
   "execution_count": 48,
   "metadata": {},
   "outputs": [],
   "source": [
    "kal_split = str.split(kalimat)"
   ]
  },
  {
   "cell_type": "code",
   "execution_count": 49,
   "metadata": {},
   "outputs": [
    {
     "name": "stdout",
     "output_type": "stream",
     "text": [
      "['Saya', 'akan', 'pergi', 'ke', 'kampus']\n"
     ]
    }
   ],
   "source": [
    "print(kal_split)"
   ]
  },
  {
   "cell_type": "markdown",
   "metadata": {},
   "source": [
    "### Menghitung jumlah kata dalam list"
   ]
  },
  {
   "cell_type": "code",
   "execution_count": 50,
   "metadata": {},
   "outputs": [],
   "source": [
    "Jkata = len(kal_split)"
   ]
  },
  {
   "cell_type": "code",
   "execution_count": 51,
   "metadata": {},
   "outputs": [
    {
     "name": "stdout",
     "output_type": "stream",
     "text": [
      "5\n"
     ]
    }
   ],
   "source": [
    "print(Jkata)"
   ]
  },
  {
   "cell_type": "markdown",
   "metadata": {},
   "source": [
    "### Mendefinisikan list"
   ]
  },
  {
   "cell_type": "code",
   "execution_count": 52,
   "metadata": {},
   "outputs": [
    {
     "data": {
      "text/plain": [
       "['apple', 'banana']"
      ]
     },
     "execution_count": 52,
     "metadata": {},
     "output_type": "execute_result"
    }
   ],
   "source": [
    "fruits= [] #list kosong\n",
    "fruits = [\"apple\" , \"banana\"] #list with 2 elements\n",
    "fruits"
   ]
  },
  {
   "cell_type": "code",
   "execution_count": null,
   "metadata": {},
   "outputs": [],
   "source": []
  },
  {
   "cell_type": "code",
   "execution_count": null,
   "metadata": {},
   "outputs": [],
   "source": []
  },
  {
   "cell_type": "code",
   "execution_count": null,
   "metadata": {},
   "outputs": [],
   "source": []
  },
  {
   "cell_type": "code",
   "execution_count": 53,
   "metadata": {},
   "outputs": [],
   "source": [
    "Kal1 = \"Sarimin pergi ke pasar naik motor\"\n",
    "Kal2 = \"Monyet suka pisang\"\n",
    "Kal3 = \"Kucing sangat suka ikan asin\"\n",
    "Kal4 = \"Saya suka bakso urat\"\n"
   ]
  },
  {
   "cell_type": "code",
   "execution_count": 54,
   "metadata": {},
   "outputs": [],
   "source": [
    "kumpulan_kal = [Kal1, Kal2, Kal3, Kal4]"
   ]
  },
  {
   "cell_type": "code",
   "execution_count": 55,
   "metadata": {},
   "outputs": [
    {
     "name": "stdout",
     "output_type": "stream",
     "text": [
      "['Sarimin pergi ke pasar naik motor', 'Monyet suka pisang', 'Kucing sangat suka ikan asin', 'Saya suka bakso urat']\n"
     ]
    }
   ],
   "source": [
    "print(kumpulan_kal)"
   ]
  },
  {
   "cell_type": "code",
   "execution_count": 56,
   "metadata": {},
   "outputs": [],
   "source": [
    "kalimat_huruf = [[Kal1, len(Kal1)],[Kal2, len(Kal2)], [Kal3, len(Kal3)], [Kal4, len(Kal4)]]"
   ]
  },
  {
   "cell_type": "code",
   "execution_count": 57,
   "metadata": {},
   "outputs": [
    {
     "name": "stdout",
     "output_type": "stream",
     "text": [
      "[['Sarimin pergi ke pasar naik motor', 33], ['Monyet suka pisang', 18], ['Kucing sangat suka ikan asin', 28], ['Saya suka bakso urat', 20]]\n"
     ]
    }
   ],
   "source": [
    "print(kalimat_huruf)"
   ]
  },
  {
   "cell_type": "code",
   "execution_count": 58,
   "metadata": {},
   "outputs": [
    {
     "name": "stderr",
     "output_type": "stream",
     "text": [
      "[nltk_data] Downloading package punkt to\n",
      "[nltk_data]     C:\\Users\\ASUS\\AppData\\Roaming\\nltk_data...\n",
      "[nltk_data]   Package punkt is already up-to-date!\n"
     ]
    },
    {
     "data": {
      "text/plain": [
       "True"
      ]
     },
     "execution_count": 58,
     "metadata": {},
     "output_type": "execute_result"
    }
   ],
   "source": [
    "import nltk\n",
    "nltk.download('punkt')"
   ]
  },
  {
   "cell_type": "code",
   "execution_count": 59,
   "metadata": {},
   "outputs": [],
   "source": [
    "from nltk.tokenize import word_tokenize"
   ]
  },
  {
   "cell_type": "code",
   "execution_count": 60,
   "metadata": {},
   "outputs": [],
   "source": [
    "kata_kal1 = word_tokenize(Kal1)\n",
    "kata_kal2 = word_tokenize(Kal2)\n",
    "kata_kal3 = word_tokenize(Kal3)\n",
    "kata_kal4 = word_tokenize(Kal4)"
   ]
  },
  {
   "cell_type": "code",
   "execution_count": 61,
   "metadata": {},
   "outputs": [],
   "source": [
    "kalimat_kata = [[Kal1, len(kata_kal1)],[Kal2, len(kata_kal2)], [Kal3, len(kata_kal3)], [Kal4, len(kata_kal4)]]"
   ]
  },
  {
   "cell_type": "code",
   "execution_count": 62,
   "metadata": {},
   "outputs": [
    {
     "name": "stdout",
     "output_type": "stream",
     "text": [
      "[['Sarimin pergi ke pasar naik motor', 6], ['Monyet suka pisang', 3], ['Kucing sangat suka ikan asin', 5], ['Saya suka bakso urat', 4]]\n"
     ]
    }
   ],
   "source": [
    "print(kalimat_kata)"
   ]
  },
  {
   "cell_type": "code",
   "execution_count": 34,
   "metadata": {},
   "outputs": [],
   "source": [
    "kalimat_hurufKata = [[Kal1, len(Kal1), len(kata_kal1)],[Kal2, len(Kal2), len(kata_kal2)], [Kal3, len(Kal3), len(kata_kal3)], [Kal4, len(Kal4), len(kata_kal4)]]"
   ]
  },
  {
   "cell_type": "code",
   "execution_count": 35,
   "metadata": {},
   "outputs": [
    {
     "name": "stdout",
     "output_type": "stream",
     "text": [
      "[['Sarimin pergi ke pasar naik motor', 33, 6], ['Monyet suka pisang', 18, 3], ['Kucing sangat suka ikan asin', 28, 5], ['Saya suka bakso urat', 20, 4]]\n"
     ]
    }
   ],
   "source": [
    "print(kalimat_hurufKata)"
   ]
  },
  {
   "cell_type": "code",
   "execution_count": null,
   "metadata": {},
   "outputs": [],
   "source": []
  },
  {
   "cell_type": "code",
   "execution_count": null,
   "metadata": {},
   "outputs": [],
   "source": []
  },
  {
   "cell_type": "code",
   "execution_count": null,
   "metadata": {},
   "outputs": [],
   "source": []
  },
  {
   "cell_type": "code",
   "execution_count": null,
   "metadata": {},
   "outputs": [],
   "source": []
  },
  {
   "cell_type": "code",
   "execution_count": null,
   "metadata": {},
   "outputs": [],
   "source": []
  },
  {
   "cell_type": "code",
   "execution_count": null,
   "metadata": {},
   "outputs": [],
   "source": []
  },
  {
   "cell_type": "code",
   "execution_count": null,
   "metadata": {},
   "outputs": [],
   "source": []
  },
  {
   "cell_type": "code",
   "execution_count": null,
   "metadata": {},
   "outputs": [],
   "source": []
  },
  {
   "cell_type": "code",
   "execution_count": null,
   "metadata": {},
   "outputs": [],
   "source": []
  },
  {
   "cell_type": "code",
   "execution_count": 27,
   "metadata": {},
   "outputs": [
    {
     "name": "stdout",
     "output_type": "stream",
     "text": [
      "[['Sarimin pergi ke pasar naik motor ', 33 ],['Monyet suka pisang ', 18 ],['Kucing sangat suka ikan asin ', 28 ],['Saya suka bakso urat ', 20 ]]\n"
     ]
    }
   ],
   "source": [
    "print(\"[['\"+ Kal1, \"',\", len(Kal1) , \"],\" + \"['\"+ Kal2, \"',\", len(Kal2) , \"],\" + \"['\"+ Kal3, \"',\", len(Kal3) , \"],\" + \"['\"+ Kal4, \"',\", len(Kal4) , \"]]\")"
   ]
  },
  {
   "cell_type": "code",
   "execution_count": 110,
   "metadata": {},
   "outputs": [
    {
     "name": "stdout",
     "output_type": "stream",
     "text": [
      "[['Sarimin pergi ke pasar naik motor ', 6 ],['Monyet suka pisang ', 3 ],['Kucing sangat suka ikan asin ', 5 ],['Saya suka bakso urat ', 4 ]]\n"
     ]
    }
   ],
   "source": [
    "print(\"[['\"+ Kal1, \"',\", len(kata_kal1) , \"],\" + \"['\"+ Kal2, \"',\", len(kata_kal2) , \"],\" + \"['\"+ Kal3, \"',\", len(kata_kal3) , \"],\" + \"['\"+ Kal4, \"',\", len(kata_kal4) , \"]]\")"
   ]
  },
  {
   "cell_type": "code",
   "execution_count": 111,
   "metadata": {},
   "outputs": [
    {
     "name": "stdout",
     "output_type": "stream",
     "text": [
      "[['Sarimin pergi ke pasar naik motor ', 33 , 6 ],['Monyet suka pisang ', 18 , 3 ],['Kucing sangat suka ikan asin ', 28 , 5 ],['Saya suka bakso urat ', 20 , 4 ]]\n"
     ]
    }
   ],
   "source": [
    "print(\"[['\"+ Kal1, \"',\", len(Kal1) , \",\" , len(kata_kal1), \"],\" + \"['\"+ Kal2, \"',\", len(Kal2), \",\" ,len(kata_kal2) , \"],\" + \"['\"+ Kal3, \"',\", len(Kal3), \",\" ,len(kata_kal3) , \"],\" + \"['\"+ Kal4, \"',\", len(Kal4), \",\" , len(kata_kal4) , \"]]\")"
   ]
  },
  {
   "cell_type": "code",
   "execution_count": null,
   "metadata": {},
   "outputs": [],
   "source": []
  },
  {
   "cell_type": "code",
   "execution_count": null,
   "metadata": {},
   "outputs": [],
   "source": []
  },
  {
   "cell_type": "code",
   "execution_count": null,
   "metadata": {},
   "outputs": [],
   "source": []
  },
  {
   "cell_type": "code",
   "execution_count": null,
   "metadata": {},
   "outputs": [],
   "source": []
  },
  {
   "cell_type": "code",
   "execution_count": null,
   "metadata": {},
   "outputs": [],
   "source": []
  },
  {
   "cell_type": "code",
   "execution_count": null,
   "metadata": {},
   "outputs": [],
   "source": []
  }
 ],
 "metadata": {
  "kernelspec": {
   "display_name": "Python 3",
   "language": "python",
   "name": "python3"
  },
  "language_info": {
   "codemirror_mode": {
    "name": "ipython",
    "version": 3
   },
   "file_extension": ".py",
   "mimetype": "text/x-python",
   "name": "python",
   "nbconvert_exporter": "python",
   "pygments_lexer": "ipython3",
   "version": "3.8.3"
  }
 },
 "nbformat": 4,
 "nbformat_minor": 4
}
